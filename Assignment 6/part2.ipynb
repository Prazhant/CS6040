{
 "cells": [
  {
   "cell_type": "markdown",
   "metadata": {
    "deletable": false,
    "editable": false,
    "nbgrader": {
     "grade": false,
     "grade_id": "cell-6f2b19db531e74fd",
     "locked": true,
     "schema_version": 1,
     "solution": false
    }
   },
   "source": [
    "# Part 2: Mining the web: Web APIs\n",
    "\n",
    "We hope the preceding exercise was painful: even with tools to process HTML, it is rough downloading raw HTML and trying to extract information from it!\n",
    "\n",
    "> Can you think of any other reasons why scraping websites for data in this way is not a good idea?\n",
    "\n",
    "Luckily, many websites provide an application programming interface (API) for querying their data or otherwise accessing their services from your programs. For instance, Twitter provides a web API for gathering tweets, Flickr provides one for gathering image data, and Github for accessing information about repository histories.\n",
    "\n",
    "These kinds of web APIs are much easier to use than, for instance, the preceding technique which scrapes raw web pages and then has to parse the resulting HTML. Moreover, there are more scalable in the sense that the web servers can transmit structured data in a less verbose form than raw HTML.\n",
    "\n",
    "As a starting example, here is some code to look at the activity on Github related to the public version of one of our course's materials."
   ]
  },
  {
   "cell_type": "code",
   "execution_count": 13,
   "metadata": {
    "deletable": false,
    "editable": false,
    "nbgrader": {
     "grade": false,
     "grade_id": "cell-e969cac2e271f5ec",
     "locked": true,
     "schema_version": 1,
     "solution": false
    }
   },
   "outputs": [
    {
     "data": {
      "text/markdown": [
       "{'date': 'Fri, 02 Oct 2020 22:57:32 GMT', 'server': 'GitHub.com', 'status': '304 Not Modified', 'cache-control': 'public, max-age=60, s-maxage=60', 'vary': 'Accept, Accept-Encoding, Accept, X-Requested-With, Accept-Encoding', 'etag': '\"69c2455b4b0d7f5fa3b92792f3094aca621cb1dc177a895812a960917335609e\"', 'last-modified': 'Wed, 09 Sep 2020 21:53:02 GMT', 'access-control-expose-headers': 'ETag, Link, Location, Retry-After, X-GitHub-OTP, X-RateLimit-Limit, X-RateLimit-Remaining, X-RateLimit-Used, X-RateLimit-Reset, X-OAuth-Scopes, X-Accepted-OAuth-Scopes, X-Poll-Interval, X-GitHub-Media-Type, Deprecation, Sunset', 'access-control-allow-origin': '*', 'strict-transport-security': 'max-age=31536000; includeSubdomains; preload', 'x-frame-options': 'deny', 'x-content-type-options': 'nosniff', 'x-xss-protection': '1; mode=block', 'referrer-policy': 'origin-when-cross-origin, strict-origin-when-cross-origin', 'content-security-policy': \"default-src 'none'\", 'content-type': 'application/json; charset=utf-8', 'x-poll-interval': '60', 'x-github-media-type': 'github.v3; format=json', 'content-encoding': 'gzip', 'X-Ratelimit-Limit': '60', 'X-Ratelimit-Remaining': '56', 'X-Ratelimit-Reset': '1601682888', 'X-Ratelimit-Used': '4', 'Accept-Ranges': 'bytes', 'Content-Length': '2551', 'X-GitHub-Request-Id': 'BE34:851F:74186A:8A9A85:5F77B062'}"
      ],
      "text/plain": [
       "<IPython.core.display.Markdown object>"
      ]
     },
     "metadata": {},
     "output_type": "display_data"
    }
   ],
   "source": [
    "from IPython.display import display, Markdown\n",
    "\n",
    "import requests\n",
    "response = requests.get('https://api.github.com/repos/hpcgarage/prymer/events')\n",
    "\n",
    "headers_highlighted = str(response.headers).replace(\"'Content-Type': 'application/json;\",\n",
    "                                                    \"'Content-Type': '**application/json**;\")\n",
    "display(Markdown(headers_highlighted))"
   ]
  },
  {
   "cell_type": "markdown",
   "metadata": {
    "deletable": false,
    "editable": false,
    "nbgrader": {
     "grade": false,
     "grade_id": "cell-2a08d680885303e5",
     "locked": true,
     "schema_version": 1,
     "solution": false
    }
   },
   "source": [
    "Note the `Content-Type` of the response:"
   ]
  },
  {
   "cell_type": "code",
   "execution_count": 14,
   "metadata": {
    "deletable": false,
    "editable": false,
    "nbgrader": {
     "grade": false,
     "grade_id": "cell-89ebf4242e6c1940",
     "locked": true,
     "schema_version": 1,
     "solution": false
    }
   },
   "outputs": [
    {
     "name": "stdout",
     "output_type": "stream",
     "text": [
      "application/json; charset=utf-8\n"
     ]
    }
   ],
   "source": [
    "print(response.headers['Content-Type'])"
   ]
  },
  {
   "cell_type": "markdown",
   "metadata": {
    "deletable": false,
    "editable": false,
    "nbgrader": {
     "grade": false,
     "grade_id": "cell-752159137c70eb17",
     "locked": true,
     "schema_version": 1,
     "solution": false
    }
   },
   "source": [
    "The response is in JSON format, which is an open format for exchanging semi-structured data. (JSON stands for **J**ava**S**cript **O**bject **N**otation.) JSON is designed to be human-readable and machine-readable, and maps especially well in Python to nested dictionaries. Let's take a look.\n",
    "\n",
    "> See also [this tutorial](https://www.w3schools.com/js/js_json_intro.asp) for a JSON primer. JSON is among _the_ universal formats for sharing data on the web; see, for instance, https://www.sitepoint.com/10-example-json-files/."
   ]
  },
  {
   "cell_type": "code",
   "execution_count": 15,
   "metadata": {
    "deletable": false,
    "editable": false,
    "nbgrader": {
     "grade": false,
     "grade_id": "cell-4bcf26ae80bab53b",
     "locked": true,
     "schema_version": 1,
     "solution": false
    }
   },
   "outputs": [
    {
     "name": "stdout",
     "output_type": "stream",
     "text": [
      "<class 'list'>\n",
      "[\n",
      "  {\n",
      "    \"actor\": {\n",
      "      \"avatar_url\": \"https://avatars.githubusercontent.com/u/64992338?\",\n",
      "      \"display_login\": \"DKillian7\",\n",
      "      \"gravatar_id\": \"\",\n",
      "      \"id\": 64992338,\n",
      "      \"login\": \"DKillian7\",\n",
      "      \"url\": \"https://api.github.com/users/DKillian7\"\n",
      "    },\n",
      "    \"created_at\": \"2020-09-09T21:53:02Z\",\n",
      "    \"id\": \"13465970482\",\n",
      "    \"org\": {\n",
      "      \"avatar_url\": \"https://avatars.githubusercontent.com/u/6626190?\",\n",
      "      \"gravatar_id\": \"\",\n",
      "      \"id\": 6626190,\n",
      "      \"login\": \"hpcgarage\",\n",
      "      \"url\": \"https://api.github.com/orgs/hpcgarage\"\n",
      "    },\n",
      "    \"payload\": {\n",
      "      \"action\": \"started\"\n",
      "    },\n",
      "    \"public\": true,\n",
      "    \"repo\": {\n",
      "      \"id\": 202786912,\n",
      "      \"name\": \"hpcgarage/prymer\",\n",
      "      \"url\": \"https://api.github.com/repos/hpcgarage/prymer\"\n",
      "    },\n",
      "    \"type\": \"WatchEvent\"\n",
      "  },\n",
      "  {\n",
      "    \"actor\": {\n",
      "      \"avatar_url\": \"https://avatars.githubusercontent.com/u/3359815?\",\n",
      "      \"display_login\": \"snelluri\",\n",
      "      \"gravatar_id\": \"\",\n",
      "      \"id\": 3359815,\n",
      "      \"login\": \"snelluri\",\n",
      "      \"url\": \"https://api.github.com/users/snelluri\"\n",
      "    },\n",
      "    \"created_at\": \"2020-08-30T04:45:47Z\",\n",
      "    \"id\": \"13349956800\",\n",
      "    \"org\": {\n",
      "      \"avatar_url\": \"https://avatars.githubusercontent.com/u/6626190?\",\n",
      "      \"gravatar_id\": \"\",\n",
      "      \"id\": 6626190,\n",
      "      \"login\": \"hpcgarage\",\n",
      "      \"url\": \"https://api.github.com/orgs/hpcgarage\"\n",
      "    },\n",
      "    \"payload\": {\n",
      "      \"forkee\": {\n",
      "        \"archive_url\": \"https://api.github.com/repos/snelluri/prymer/{archive_format}{/ref}\",\n",
      "        \"archived\": false,\n",
      "        \"assignees_url\": \"https://api.github.com/repos/snelluri/prymer/assignees{/user}\",\n",
      "        \"blobs_url\": \"https://api.github.com/repos/snelluri/prymer/git/blobs{/sha}\",\n",
      "        \"branches_url\": \"https://api.github.com/repos/snelluri/prymer/branches{/branch}\",\n",
      "        \"clone_url\": \"https://github.com/snelluri/prymer.git\",\n",
      "        \"collaborators_url\": \"https://api.github.com/repos/snelluri/prymer/collaborators{/collaborator}\",\n",
      "        \"comments_url\": \"https://api.github.com/repos/snelluri/prymer/comments{/number}\",\n",
      "        \"commits_url\": \"https://api.github.com/repos/snelluri/prymer/commits{/sha}\",\n",
      "        \"compare_url\": \"https://api.github.com/repos/snelluri/prymer/compare/{base}...{head}\",\n",
      "        \"contents_url\": \"https://api.github.com/repos/snelluri/prymer/contents/{+path}\",\n",
      "        \"contributors_url\": \"https://api.github.com/repos/snelluri/prymer/contributors\",\n",
      "        \"created_at\": \"2020-08-30T04:45:46Z\",\n",
      "        \"default_branch\": \"master\",\n",
      "        \"deployments_url\": \"https://api.github.com/repos/snelluri/prymer/deployments\",\n",
      "        \"description\": \"A Python primer for Georgia Tech's CSE 6040/x: Computing for Data Analysis\",\n",
      "        \"disabled\": false,\n",
      "        \"downloads_url\": \"https://api.github.com/repos/snelluri/prymer/downloads\",\n",
      "        \"events_url\": \"https://api.github.com/repos/snelluri/prymer/events\",\n",
      "        \"fork\": true,\n",
      "        \"forks\": 0,\n",
      "        \"forks_count\": 0,\n",
      "        \"forks_url\": \"https://api.github.com/repos/snelluri/prymer/forks\",\n",
      "        \"full_name\": \"snelluri/prymer\",\n",
      "        \"git_commits_url\": \"https://api.github.com/repos/snelluri/prymer/git/commits{/sha}\",\n",
      "        \"git_refs_url\": \"https://api.github.com/repos/snelluri/prymer/git/refs{/sha}\",\n",
      "        \"git_tags_url\": \"https://api.github.com/repos/snelluri/prymer/git/tags{/sha}\",\n",
      "        \"git_url\": \"git://github.com/snelluri/prymer.git\",\n",
      "        \"has_downloads\": true,\n",
      "        \"has_issues\": false,\n",
      "        \"has_pages\": false,\n",
      "        \"has_projects\": true,\n",
      "        \"has_wiki\": true,\n",
      "        \"homepage\": null,\n",
      "        \"hooks_url\": \"https://api.github.com/repos/snelluri/prymer/hooks\",\n",
      "        \"html_url\": \"https://github.com/snelluri/prymer\",\n",
      "        \"id\": 291401508,\n",
      "        \"issue_comment_url\": \"https://api.github.com/repos/snelluri/prymer/issues/comments{/number}\",\n",
      "        \"issue_events_url\": \"https://api.github.com/repos/snelluri/prymer/issues/events{/number}\",\n",
      "        \"issues_url\": \"https://api.github.com/repos/snelluri/prymer/issues{/number}\",\n",
      "        \"keys_url\": \"https://api.github.com/repos/snelluri/prymer/keys{/key_id}\",\n",
      "        \"labels_url\": \"https://api.github.com/repos/snelluri/prymer/labels{/name}\",\n",
      "        \"language\": null,\n",
      "        \"languages_url\": \"https://api.github.com/repos/snelluri/prymer/languages\",\n",
      "        \"license\": null,\n",
      "        \"merges_url\": \"https://api.github.com/repos/snelluri/prymer/merges\",\n",
      "        \"milestones_url\": \"https://api.github.com/repos/snelluri/prymer/milestones{/number}\",\n",
      "        \"mirror_url\": null,\n",
      "        \"name\": \"prymer\",\n",
      "        \"node_id\": \"MDEwOlJlcG9zaXRvcnkyOTE0MDE1MDg=\",\n",
      "        \"notifications_url\": \"https://api.github.com/repos/snelluri/prymer/notifications{?since,all,participating}\",\n",
      "        \"open_issues\": 0,\n",
      "        \"open_issues_count\": 0,\n",
      "        \"owner\": {\n",
      "          \"avatar_url\": \"https://avatars3.githubusercontent.com/u/3359815?v=4\",\n",
      "          \"events_url\": \"https://api.github.com/users/snelluri/events{/privacy}\",\n",
      "          \"followers_url\": \"https://api.github.com/users/snelluri/followers\",\n",
      "          \"following_url\": \"https://api.github.com/users/snelluri/following{/other_user}\",\n",
      "          \"gists_url\": \"https://api.github.com/users/snelluri/gists{/gist_id}\",\n",
      "          \"gravatar_id\": \"\",\n",
      "          \"html_url\": \"https://github.com/snelluri\",\n",
      "          \"id\": 3359815,\n",
      "          \"login\": \"snelluri\",\n",
      "          \"node_id\": \"MDQ6VXNlcjMzNTk4MTU=\",\n",
      "          \"organizations_url\": \"https://api.github.com/users/snelluri/orgs\",\n",
      "          \"received_events_url\": \"https://api.github.com/users/snelluri/received_events\",\n",
      "          \"repos_url\": \"https://api.github.com/users/snelluri/repos\",\n",
      "          \"site_admin\": false,\n",
      "          \"starred_url\": \"https://api.github.com/users/snelluri/starred{/owner}{/repo}\",\n",
      "          \"subscriptions_url\": \"https://api.github.com/users/snelluri/subscriptions\",\n",
      "          \"type\": \"User\",\n",
      "          \"url\": \"https://api.github.com/users/snelluri\"\n",
      "        },\n",
      "        \"private\": false,\n",
      "        \"public\": true,\n",
      "        \"pulls_url\": \"https://api.github.com/repos/snelluri/prymer/pulls{/number}\",\n",
      "        \"pushed_at\": \"2019-09-13T12:47:30Z\",\n",
      "        \"releases_url\": \"https://api.github.com/repos/snelluri/prymer/releases{/id}\",\n",
      "        \"size\": 64,\n",
      "        \"ssh_url\": \"git@github.com:snelluri/prymer.git\",\n",
      "        \"stargazers_count\": 0,\n",
      "        \"stargazers_url\": \"https://api.github.com/repos/snelluri/prymer/stargazers\",\n",
      "        \"statuses_url\": \"https://api.github.com/repos/snelluri/prymer/statuses/{sha}\",\n",
      "        \"subscribers_url\": \"https://api.github.com/repos/snelluri/prymer/subscribers\",\n",
      "        \"subscription_url\": \"https://api.github.com/repos/snelluri/prymer/subscription\",\n",
      "        \"svn_url\": \"https://github.com/snelluri/prymer\",\n",
      "        \"tags_url\": \"https://api.github.com/repos/snelluri/prymer/tags\",\n",
      "        \"teams_url\": \"https://api.github.com/repos/snelluri/prymer/teams\",\n",
      "        \"trees_url\": \"https://api.github.com/repos/snelluri/prymer/git/trees{/sha}\",\n",
      "        \"updated_at\": \"2020-08-22T19:17:19Z\",\n",
      "        \"url\": \"https://api.github.com/repos/snelluri/prymer\",\n",
      "        \"watchers\": 0,\n",
      "        \"watchers_count\": 0\n",
      "      }\n",
      "    },\n",
      "    \"public\": true,\n",
      "    \"repo\": {\n",
      "      \"id\": 202786912,\n",
      "      \"name\": \"hpcgarage/prymer\",\n",
      "      \"url\": \"https://api.github.com/repos/hpcgarage/prymer\"\n",
      "    },\n",
      "    \"type\": \"ForkEvent\"\n",
      "  },\n",
      "  {\n",
      "    \"actor\": {\n",
      "      \"avatar_url\": \"https://avatars.githubusercontent.com/u/30510475?\",\n",
      "      \"display_login\": \"acollaguazo\",\n",
      "      \"gravatar_id\": \"\",\n",
      "      \"id\": 30510475,\n",
      "      \"login\": \"acollaguazo\",\n",
      "      \"url\": \"https://api.github.com/users/acollaguazo\"\n",
      "    },\n",
      "    \"created_at\": \"2020-08-25T04:11:54Z\",\n",
      "    \"id\": \"13296533822\",\n",
      "    \"org\": {\n",
      "      \"avatar_url\": \"https://avatars.githubusercontent.com/u/6626190?\",\n",
      "      \"gravatar_id\": \"\",\n",
      "      \"id\": 6626190,\n",
      "      \"login\": \"hpcgarage\",\n",
      "      \"url\": \"https://api.github.com/orgs/hpcgarage\"\n",
      "    },\n",
      "    \"payload\": {\n",
      "      \"forkee\": {\n",
      "        \"archive_url\": \"https://api.github.com/repos/acollaguazo/prymer/{archive_format}{/ref}\",\n",
      "        \"archived\": false,\n",
      "        \"assignees_url\": \"https://api.github.com/repos/acollaguazo/prymer/assignees{/user}\",\n",
      "        \"blobs_url\": \"https://api.github.com/repos/acollaguazo/prymer/git/blobs{/sha}\",\n",
      "        \"branches_url\": \"https://api.github.com/repos/acollaguazo/prymer/branches{/branch}\",\n",
      "        \"clone_url\": \"https://github.com/acollaguazo/prymer.git\",\n",
      "        \"collaborators_url\": \"https://api.github.com/repos/acollaguazo/prymer/collaborators{/collaborator}\",\n",
      "        \"comments_url\": \"https://api.github.com/repos/acollaguazo/prymer/comments{/number}\",\n",
      "        \"commits_url\": \"https://api.github.com/repos/acollaguazo/prymer/commits{/sha}\",\n",
      "        \"compare_url\": \"https://api.github.com/repos/acollaguazo/prymer/compare/{base}...{head}\",\n",
      "        \"contents_url\": \"https://api.github.com/repos/acollaguazo/prymer/contents/{+path}\",\n",
      "        \"contributors_url\": \"https://api.github.com/repos/acollaguazo/prymer/contributors\",\n",
      "        \"created_at\": \"2020-08-25T04:11:53Z\",\n",
      "        \"default_branch\": \"master\",\n",
      "        \"deployments_url\": \"https://api.github.com/repos/acollaguazo/prymer/deployments\",\n",
      "        \"description\": \"A Python primer for Georgia Tech's CSE 6040/x: Computing for Data Analysis\",\n",
      "        \"disabled\": false,\n",
      "        \"downloads_url\": \"https://api.github.com/repos/acollaguazo/prymer/downloads\",\n",
      "        \"events_url\": \"https://api.github.com/repos/acollaguazo/prymer/events\",\n",
      "        \"fork\": true,\n",
      "        \"forks\": 0,\n",
      "        \"forks_count\": 0,\n",
      "        \"forks_url\": \"https://api.github.com/repos/acollaguazo/prymer/forks\",\n",
      "        \"full_name\": \"acollaguazo/prymer\",\n",
      "        \"git_commits_url\": \"https://api.github.com/repos/acollaguazo/prymer/git/commits{/sha}\",\n",
      "        \"git_refs_url\": \"https://api.github.com/repos/acollaguazo/prymer/git/refs{/sha}\",\n",
      "        \"git_tags_url\": \"https://api.github.com/repos/acollaguazo/prymer/git/tags{/sha}\",\n",
      "        \"git_url\": \"git://github.com/acollaguazo/prymer.git\",\n",
      "        \"has_downloads\": true,\n",
      "        \"has_issues\": false,\n",
      "        \"has_pages\": false,\n",
      "        \"has_projects\": true,\n",
      "        \"has_wiki\": true,\n",
      "        \"homepage\": null,\n",
      "        \"hooks_url\": \"https://api.github.com/repos/acollaguazo/prymer/hooks\",\n",
      "        \"html_url\": \"https://github.com/acollaguazo/prymer\",\n",
      "        \"id\": 290109946,\n",
      "        \"issue_comment_url\": \"https://api.github.com/repos/acollaguazo/prymer/issues/comments{/number}\",\n",
      "        \"issue_events_url\": \"https://api.github.com/repos/acollaguazo/prymer/issues/events{/number}\",\n",
      "        \"issues_url\": \"https://api.github.com/repos/acollaguazo/prymer/issues{/number}\",\n",
      "        \"keys_url\": \"https://api.github.com/repos/acollaguazo/prymer/keys{/key_id}\",\n",
      "        \"labels_url\": \"https://api.github.com/repos/acollaguazo/prymer/labels{/name}\",\n",
      "        \"language\": null,\n",
      "        \"languages_url\": \"https://api.github.com/repos/acollaguazo/prymer/languages\",\n",
      "        \"license\": null,\n",
      "        \"merges_url\": \"https://api.github.com/repos/acollaguazo/prymer/merges\",\n",
      "        \"milestones_url\": \"https://api.github.com/repos/acollaguazo/prymer/milestones{/number}\",\n",
      "        \"mirror_url\": null,\n",
      "        \"name\": \"prymer\",\n",
      "        \"node_id\": \"MDEwOlJlcG9zaXRvcnkyOTAxMDk5NDY=\",\n",
      "        \"notifications_url\": \"https://api.github.com/repos/acollaguazo/prymer/notifications{?since,all,participating}\",\n",
      "        \"open_issues\": 0,\n",
      "        \"open_issues_count\": 0,\n",
      "        \"owner\": {\n",
      "          \"avatar_url\": \"https://avatars0.githubusercontent.com/u/30510475?v=4\",\n",
      "          \"events_url\": \"https://api.github.com/users/acollaguazo/events{/privacy}\",\n",
      "          \"followers_url\": \"https://api.github.com/users/acollaguazo/followers\",\n",
      "          \"following_url\": \"https://api.github.com/users/acollaguazo/following{/other_user}\",\n",
      "          \"gists_url\": \"https://api.github.com/users/acollaguazo/gists{/gist_id}\",\n",
      "          \"gravatar_id\": \"\",\n",
      "          \"html_url\": \"https://github.com/acollaguazo\",\n",
      "          \"id\": 30510475,\n",
      "          \"login\": \"acollaguazo\",\n",
      "          \"node_id\": \"MDQ6VXNlcjMwNTEwNDc1\",\n",
      "          \"organizations_url\": \"https://api.github.com/users/acollaguazo/orgs\",\n",
      "          \"received_events_url\": \"https://api.github.com/users/acollaguazo/received_events\",\n",
      "          \"repos_url\": \"https://api.github.com/users/acollaguazo/repos\",\n",
      "          \"site_admin\": false,\n",
      "          \"starred_url\": \"https://api.github.com/users/acollaguazo/starred{/owner}{/repo}\",\n",
      "          \"subscriptions_url\": \"https://api.github.com/users/acollaguazo/subscriptions\",\n",
      "          \"type\": \"User\",\n",
      "          \"url\": \"https://api.github.com/users/acollaguazo\"\n",
      "        },\n",
      "        \"private\": false,\n",
      "        \"public\": true,\n",
      "        \"pulls_url\": \"https://api.github.com/repos/acollaguazo/prymer/pulls{/number}\",\n",
      "        \"pushed_at\": \"2019-09-13T12:47:30Z\",\n",
      "        \"releases_url\": \"https://api.github.com/repos/acollaguazo/prymer/releases{/id}\",\n",
      "        \"size\": 64,\n",
      "        \"ssh_url\": \"git@github.com:acollaguazo/prymer.git\",\n",
      "        \"stargazers_count\": 0,\n",
      "        \"stargazers_url\": \"https://api.github.com/repos/acollaguazo/prymer/stargazers\",\n",
      "        \"statuses_url\": \"https://api.github.com/repos/acollaguazo/prymer/statuses/{sha}\",\n",
      "        \"subscribers_url\": \"https://api.github.com/repos/acollaguazo/prymer/subscribers\",\n",
      "        \"subscription_url\": \"https://api.github.com/repos/acollaguazo/prymer/subscription\",\n",
      "        \"svn_url\": \"https://github.com/acollaguazo/prymer\",\n",
      "        \"tags_url\": \"https://api.github.com/repos/acollaguazo/prymer/tags\",\n",
      "        \"teams_url\": \"https://api.github.com/repos/acollaguazo/prymer/teams\",\n",
      "        \"trees_url\": \"https://api.github.com/repos/acollaguazo/prymer/git/trees{/sha}\",\n",
      "        \"updated_at\": \"2020-08-22T19:17:19Z\",\n",
      "        \"url\": \"https://api.github.com/repos/acollaguazo/prymer\",\n",
      "        \"watchers\": 0,\n",
      "        \"watchers_count\": 0\n",
      "      }\n",
      "    },\n",
      "    \"public\": true,\n",
      "    \"repo\": {\n",
      "      \"id\": 202786912,\n",
      "      \"name\": \"hpcgarage/prymer\",\n",
      "      \"url\": \"https://api.github.com/repos/hpcgarage/prymer\"\n",
      "    },\n",
      "    \"type\": \"ForkEvent\"\n",
      "  }\n",
      "]\n"
     ]
    }
   ],
   "source": [
    "import json\n",
    "print(type(response.json()))\n",
    "print(json.dumps(response.json()[:3], sort_keys=True, indent=2))"
   ]
  },
  {
   "cell_type": "markdown",
   "metadata": {
    "deletable": false,
    "editable": false,
    "nbgrader": {
     "grade": false,
     "grade_id": "cell-5be03b16bcb0c40f",
     "locked": true,
     "schema_version": 1,
     "solution": false
    }
   },
   "source": [
    "**Exercise 0.** It should be self-evident that the JSON response above consists of a sequence of records, which we will refer to as _events_. Each event is associated with an _actor_. Write some code to extract a dictionary of all actors, where the key is the actor's login and the value is the actor's URL."
   ]
  },
  {
   "cell_type": "code",
   "execution_count": 16,
   "metadata": {
    "nbgrader": {
     "grade": false,
     "grade_id": "extract_actors",
     "locked": false,
     "schema_version": 1,
     "solution": true
    }
   },
   "outputs": [
    {
     "data": {
      "text/plain": [
       "{'DKillian7': 'https://api.github.com/users/DKillian7',\n",
       " 'snelluri': 'https://api.github.com/users/snelluri',\n",
       " 'acollaguazo': 'https://api.github.com/users/acollaguazo',\n",
       " 'YYCJag': 'https://api.github.com/users/YYCJag',\n",
       " 'yvemeng': 'https://api.github.com/users/yvemeng',\n",
       " 'lelelena': 'https://api.github.com/users/lelelena',\n",
       " 'shuoooooooooo': 'https://api.github.com/users/shuoooooooooo',\n",
       " 'bduja': 'https://api.github.com/users/bduja'}"
      ]
     },
     "execution_count": 16,
     "metadata": {},
     "output_type": "execute_result"
    }
   ],
   "source": [
    "import json\n",
    "def extract_actors (json_github_events):\n",
    "    \"\"\"Given JSON records for events in a GitHub repo,\n",
    "    returns a dictionary of the actors and their URLs.\n",
    "    \"\"\"\n",
    "#     return [{json.dumps(actor['actor']['login']):json.dumps(actor['actor']['url'])} for actor in json_github_events]\n",
    "#     i=0\n",
    "    ret={}\n",
    "    for actor in json_github_events:\n",
    "        act=json.dumps(actor['actor']['login'])\n",
    "        act=act.replace('\\\"','')\n",
    "        url=json.dumps(actor['actor']['url']).replace('\\\"','')\n",
    "        ret[act]=url\n",
    "    return ret\n",
    "    \n",
    "            \n",
    "extract_actors(response.json())"
   ]
  },
  {
   "cell_type": "code",
   "execution_count": 17,
   "metadata": {
    "deletable": false,
    "editable": false,
    "nbgrader": {
     "grade": true,
     "grade_id": "extract_actors_test",
     "locked": true,
     "points": 0,
     "schema_version": 1,
     "solution": false
    }
   },
   "outputs": [
    {
     "name": "stdout",
     "output_type": "stream",
     "text": [
      "DKillian7: https://api.github.com/users/DKillian7\n",
      "snelluri: https://api.github.com/users/snelluri\n",
      "acollaguazo: https://api.github.com/users/acollaguazo\n",
      "YYCJag: https://api.github.com/users/YYCJag\n",
      "yvemeng: https://api.github.com/users/yvemeng\n",
      "lelelena: https://api.github.com/users/lelelena\n",
      "shuoooooooooo: https://api.github.com/users/shuoooooooooo\n",
      "bduja: https://api.github.com/users/bduja\n"
     ]
    }
   ],
   "source": [
    "actor_urls = extract_actors(response.json ())\n",
    "\n",
    "for actor, url in actor_urls.items ():\n",
    "    print ('{}: {}'.format(actor, url))\n",
    "    assert url == \"https://api.github.com/users/{}\".format(actor)"
   ]
  },
  {
   "cell_type": "markdown",
   "metadata": {
    "deletable": false,
    "editable": false,
    "nbgrader": {
     "grade": false,
     "grade_id": "cell-23355ce56dd4dcdc",
     "locked": true,
     "schema_version": 1,
     "solution": false
    }
   },
   "source": [
    "**Exercise 1.** Write some code that goes to each actor's URL and determines their name. If an actor URL is invalid, that actor should not appear in the output."
   ]
  },
  {
   "cell_type": "code",
   "execution_count": 18,
   "metadata": {
    "collapsed": true,
    "nbgrader": {
     "grade": false,
     "grade_id": "get_names",
     "locked": false,
     "schema_version": 1,
     "solution": true
    }
   },
   "outputs": [],
   "source": [
    "import re\n",
    "def lookup_names (actor_urls):\n",
    "    \"\"\"Given a dictionary of (actor, url) pairs, looks up the JSON at\n",
    "    the URL and extracts the user's name (if any). Returns a new\n",
    "    dictionary of (actor, name) pairs.\n",
    "    \"\"\"\n",
    "    print(actor_urls)\n",
    "    ret={}\n",
    "    for each in actor_urls.keys():\n",
    "        url=actor_urls[each]\n",
    "        actors=re.findall('(?<=users\\/)(.+?)$',url)\n",
    "        if len(actors)>0:\n",
    "            ret[each]=actors[0]\n",
    "    return ret\n"
   ]
  },
  {
   "cell_type": "raw",
   "metadata": {
    "deletable": false,
    "editable": false,
    "nbgrader": {
     "grade": true,
     "grade_id": "get_names_test",
     "locked": true,
     "points": 0,
     "schema_version": 1,
     "solution": false
    }
   },
   "source": [
    "actor_names = lookup_names (actor_urls)\n",
    "\n",
    "for actor, name in actor_names.items ():\n",
    "    print (\"{}: {}\".format (actor, name))\n",
    "\n",
    "assert actor_names['SamDuan'] == 'Samuel Duan'\n",
    "assert actor_names['aelipinski'] == 'OZ10'\n",
    "assert actor_names['rvuduc'] == 'Rich Vuduc (personal account)'\n",
    "\n",
    "print(\"\\n(Passed.)\")"
   ]
  },
  {
   "cell_type": "markdown",
   "metadata": {
    "deletable": false,
    "editable": false,
    "nbgrader": {
     "grade": false,
     "grade_id": "cell-ae7abfbce62b1cd6",
     "locked": true,
     "schema_version": 1,
     "solution": false
    }
   },
   "source": [
    "That's the end of this notebook. Processing JSON is fairly straightforward, because it maps very naturally to nested dictionaries in Python. You might search the web for other sources of JSON data, including [this one](https://www.yelp.com/dataset/challenge), and do your own processing!"
   ]
  }
 ],
 "metadata": {
  "celltoolbar": "Create Assignment",
  "kernelspec": {
   "display_name": "Python 3.7",
   "language": "python",
   "name": "python3"
  },
  "language_info": {
   "codemirror_mode": {
    "name": "ipython",
    "version": 3
   },
   "file_extension": ".py",
   "mimetype": "text/x-python",
   "name": "python",
   "nbconvert_exporter": "python",
   "pygments_lexer": "ipython3",
   "version": "3.7.5"
  }
 },
 "nbformat": 4,
 "nbformat_minor": 1
}
