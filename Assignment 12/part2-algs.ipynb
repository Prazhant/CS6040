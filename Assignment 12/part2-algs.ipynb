{
 "cells": [
  {
   "cell_type": "markdown",
   "metadata": {
    "nbgrader": {
     "grade": false,
     "locked": false,
     "solution": false
    }
   },
   "source": [
    "# Part 2: Algorithms for the linear least squares problem\n",
    "\n",
    "Recall the linear regression problem: given a data matrix, $X$, and responses $y$, we wish to determine the model parameters $\\theta^*$ that minimizes $\\|X \\theta - y\\|_2^2$. This problem is also known as the _linear least squares_ problem.\n",
    "\n",
    "Numpy has a function, [np.linalg.lstsq()](https://docs.scipy.org/doc/numpy/reference/generated/numpy.linalg.lstsq.html), that will compute linear least squares solutions for you. However, the purpose of this notebook is to give you a sense of how `lstsq()` works. So, instead of using it as a black box, you'll study how one might implement `lstsq()` using two different numerical algorithms.\n",
    "\n",
    "> You may rightly ask, why bother with such details? Here are three reasons it's worth looking more closely.\n",
    ">\n",
    "> 1. It's helpful to have some deeper intuition for how one formalizes a mathematical problem and derives a computational solution, in case you ever encounter a problem that does not exactly fit what a canned library can do for you.\n",
    ">\n",
    "> 2. If you have ever used a statistical analysis package, it's likely you have encountered \"strange\" numerical errors or warnings. Knowing how problems are derived can help you understand what might have gone wrong. We will see an example below.\n",
    ">\n",
    "> 3. Because data analysis is quickly evolving, it's likely that new problems and new models will not exactly fit the template of existing models. Therefore, it's possible you will need to derive a new model or know how to talk to someone who can derive one for you."
   ]
  },
  {
   "cell_type": "markdown",
   "metadata": {
    "nbgrader": {
     "grade": false,
     "locked": false,
     "solution": false
    }
   },
   "source": [
    "**Implementation note.** In this notebook, we ask that you use the following convention: any column vector should be _explicit_. That means its shape should have two dimensions where the column dimension equals one (1).\n",
    "\n",
    "**Exercise 0** (ungraded). Inspect the following code cell and make sure you understand the difference between two conventions for storing a vector, namely, as a one-dimensional array versus as a two-dimensional array (matrix) where the number of columns equals one (1). When you are asked to produce a vector, we will generally ask you to follow the second convention (`z_colvec`)."
   ]
  },
  {
   "cell_type": "code",
   "execution_count": 1,
   "metadata": {},
   "outputs": [
    {
     "name": "stdout",
     "output_type": "stream",
     "text": [
      "`z_array`:\n",
      "\n",
      " [1. 2. 3.] \n",
      "\n",
      "==> shape: (3,)\n",
      "\n",
      "\n",
      "`z_colvec`:\n",
      "\n",
      " [[1.]\n",
      " [2.]\n",
      " [3.]] \n",
      "\n",
      "==> shape: (3, 1)\n"
     ]
    }
   ],
   "source": [
    "import numpy as np\n",
    "\n",
    "# By default, Numpy vectors constructed from a list are 1-D\n",
    "# and have neither a row nor a column orientation.\n",
    "z_array = np.array([1.0, 2.0, 3.0])\n",
    "\n",
    "# By contrast, we want you to ensure your vectors are\n",
    "# column vectors.\n",
    "z_colvec = np.reshape(z_array, (len(z_array), 1))\n",
    "\n",
    "print(\"`z_array`:\\n\\n\", z_array, \"\\n\\n==> shape:\", z_array.shape)\n",
    "print(\"\\n\")\n",
    "print(\"`z_colvec`:\\n\\n\", z_colvec, \"\\n\\n==> shape:\", z_colvec.shape)"
   ]
  },
  {
   "cell_type": "markdown",
   "metadata": {},
   "source": [
    "Before beginning, run this code cell to load some of the key modules you'll need."
   ]
  },
  {
   "cell_type": "code",
   "execution_count": 2,
   "metadata": {
    "deletable": false,
    "editable": false,
    "nbgrader": {
     "grade": false,
     "grade_id": "cell-2b1c86b5bcd7388d",
     "locked": true,
     "schema_version": 1,
     "solution": false
    }
   },
   "outputs": [],
   "source": [
    "# Data and computation\n",
    "import numpy as np\n",
    "import scipy as sp\n",
    "import scipy.linalg\n",
    "import pandas as pd\n",
    "\n",
    "# Timing\n",
    "from cse6040bench import benchit\n",
    "\n",
    "# Viz\n",
    "from IPython.display import display, Math\n",
    "from matplotlib.pyplot import figure, subplot, xlim, ylim\n",
    "from matplotlib.pyplot import scatter, axis, xlabel, ylabel, title, plot\n",
    "%matplotlib inline\n",
    "\n",
    "# Some functions we'll use later to display results\n",
    "def show_cond_fancy(x, name, opt=''):\n",
    "    \"\"\"Display a condition number in 'fancy' format (using LaTeX).\"\"\"\n",
    "    def sci_to_latex(x, fmt='{:.2e}'):\n",
    "        s_raw = fmt.format(x)\n",
    "        s, e = s_raw.split('e')\n",
    "        return s + r'\\times 10^{{{}}}'.format(int(e))\n",
    "    from IPython.display import Math\n",
    "    x_s = sci_to_latex(x)\n",
    "    display(Math(r'\\kappa({}){} \\approx {}'.format(name, opt, x_s)))\n",
    "    \n",
    "def show_2vecs_tibble(x, y, xname='x', yname='y', error=False):\n",
    "    \"\"\"Display two column vectors side-by-side in a tibble.\"\"\"\n",
    "    assert type(x) is np.ndarray and x.ndim >= 2 and x.shape[1] == 1\n",
    "    assert type(y) is np.ndarray and y.ndim >= 2 and y.shape[1] == 1\n",
    "    assert x.shape == y.shape\n",
    "    x_df = pd.DataFrame(x, columns=[xname])\n",
    "    y_df = pd.DataFrame(y, columns=[yname])\n",
    "    df = pd.concat([x_df, y_df], axis=1)\n",
    "    if error:\n",
    "        df['error'] = x - y\n",
    "    display(df)\n",
    "    \n",
    "# Display (X, y) problem as a tibble\n",
    "def make_data_tibble(X, y=None):\n",
    "    df = pd.DataFrame(X, columns=['x_{}'.format(i) for i in range(X.shape[1])])\n",
    "    if y is not None:\n",
    "        y_df = pd.DataFrame(y, columns=['y'])\n",
    "        df = pd.concat([y_df, df], axis=1)\n",
    "    return df\n",
    "    \n",
    "# From: https://stackoverflow.com/questions/17129290/numpy-2d-and-1d-array-to-latex-bmatrix\n",
    "def nparray_to_bmatrix(a):\n",
    "    \"\"\"Returns a LaTeX bmatrix\"\"\"\n",
    "    assert len(a.shape) <= 2, 'bmatrix can at most display two dimensions'\n",
    "    lines = str(a).replace('[', '').replace(']', '').splitlines()\n",
    "    rv = [r'\\begin{bmatrix}']\n",
    "    rv += ['  ' + ' & '.join(l.split()) + r'\\\\' for l in lines]\n",
    "    rv +=  [r'\\end{bmatrix}']\n",
    "    return '\\n'.join(rv)\n",
    "\n",
    "# Stash this function for later:\n",
    "SAVE_LSTSQ = np.linalg.lstsq # You may ignore this line, which some test cells will use"
   ]
  },
  {
   "cell_type": "markdown",
   "metadata": {},
   "source": [
    "## Notation and review\n",
    "\n",
    "Here is a quick summary of how we can formulate and approach the linear regression problem. For a more detailed derivation, see these [accompanying notes](./notes-linreg.ipynb).\n",
    "\n",
    "Your data consists of $m$ observations and $n+1$ variables. One of these variables is the _response_ variable, $y$, which you want to predict from the other $n$ variables, $\\{x_0, \\ldots, x_{n-1}\\}$. You wish to fit a _linear model_ of the following form to these data,\n",
    "\n",
    "$$y_i \\approx x_{i,0} \\theta_0 + x_{i,1} \\theta_1 + \\cdots + x_{i,n-1} \\theta_{n-1} + \\theta_n,$$\n",
    "\n",
    "where $\\{\\theta_j | 0 \\leq j \\leq n\\}$ is the set of unknown coefficients. Your modeling task is to choose values for these coefficients that \"best fit\" the data.\n",
    "\n",
    "If we further define a set of dummy variables, $x_{i, n} \\equiv 1.0$, associated with the $\\theta_n$ parameter, then the model can be written more compactly in matrix notation as\n",
    "\n",
    "$$\n",
    "  y \\approx X \\theta,\n",
    "$$\n",
    "\n",
    "where we will refer to $X$ as the (input) data matrix."
   ]
  },
  {
   "cell_type": "markdown",
   "metadata": {},
   "source": [
    "Visually, you can also arrange the observations into a tibble like this one:\n",
    "\n",
    "|     y      | x<sub>0</sub> | x<sub>1</sub> | $\\cdots$ | x<sub>n-1</sub> | x<sub>n</sub> |\n",
    "|:----------:|:-------------:|:-------------:|:--------:|:---------------:|:-------------:|\n",
    "|   $y_0$    |   $x_{0,1}$   |   $x_{0,2}$   | $\\cdots$ |   $x_{0,n-1}$   |      1.0      |\n",
    "|   $y_1$    |   $x_{1,1}$   |   $x_{1,2}$   | $\\cdots$ |   $x_{1,n-1}$   |      1.0      |\n",
    "|   $y_2$    |   $x_{2,1}$   |   $x_{2,2}$   | $\\cdots$ |   $x_{2,n-1}$   |      1.0      |\n",
    "|  $\\vdots$  |   $\\vdots$    |   $\\vdots$    | $\\vdots$ |    $\\vdots$     |      1.0      |\n",
    "|  $y_{m-1}$ |  $x_{m-1,1}$  |  $x_{m-1,2}$  | $\\cdots$ |  $x_{m-1,n-1}$  |      1.0      |\n",
    "\n",
    "This tibble includes an extra column (variable), $x_n$, whose entries are all equal to 1.0."
   ]
  },
  {
   "cell_type": "markdown",
   "metadata": {},
   "source": [
    "**Synthetic problem generator.** For the exercises in this notebook, we will generate synthetic data. The function, `gen_problem(m, n)`, will return a triple, `X`, `y`, `theta`, which are an `m` x (`n`+1) data matrix `X`, a response vector `y`, and the \"true\" model parameters `theta`. We will then run two different numerical algorithms that estimate `theta` from `X` and `y`, and see how their answers compare against the true value.\n",
    "\n",
    "> **Note 1.** The problem generator constructs the data matrix $X$ such that each entry $(i, j)$ is $i^{\\,j}$. This structure makes it an instance of a [Vandermonde matrix](https://en.wikipedia.org/wiki/Vandermonde_matrix), which arises when fitting a polynomial to data. The \"true\" parameter vector $\\theta$ is set to all ones, and $y$ computed simply by summing the rows.\n",
    ">\n",
    "> **Note 2.** Although our usual convention is to make the _last_ column all ones, the Vandermonde matrix has its _first_ column set to all ones. This ordering is not important in this problem, but it does mean one would interpret $\\theta_0$ as the intercept rather than $\\theta_{n}$, which will be our usual convention."
   ]
  },
  {
   "cell_type": "code",
   "execution_count": 3,
   "metadata": {},
   "outputs": [
    {
     "name": "stdout",
     "output_type": "stream",
     "text": [
      "Sample generated problem:\n"
     ]
    },
    {
     "data": {
      "text/latex": [
       "$\\displaystyle X = \\begin{bmatrix}\n",
       "  1. & 0. & 0.\\\\\n",
       "  1. & 1. & 1.\\\\\n",
       "  1. & 2. & 4.\\\\\n",
       "  1. & 3. & 9.\\\\\n",
       "  1. & 4. & 16.\\\\\n",
       "  1. & 5. & 25.\\\\\n",
       "  1. & 6. & 36.\\\\\n",
       "  1. & 7. & 49.\\\\\n",
       "  1. & 8. & 64.\\\\\n",
       "  1. & 9. & 81.\\\\\n",
       "\\end{bmatrix}, \\quad y = \\begin{bmatrix}\n",
       "  1.\\\\\n",
       "  3.\\\\\n",
       "  7.\\\\\n",
       "  13.\\\\\n",
       "  21.\\\\\n",
       "  31.\\\\\n",
       "  43.\\\\\n",
       "  57.\\\\\n",
       "  73.\\\\\n",
       "  91.\\\\\n",
       "\\end{bmatrix} \\quad \\implies \\quad \\theta^* = \\begin{bmatrix}\n",
       "  1.\\\\\n",
       "  1.\\\\\n",
       "  1.\\\\\n",
       "\\end{bmatrix}$"
      ],
      "text/plain": [
       "<IPython.core.display.Math object>"
      ]
     },
     "metadata": {},
     "output_type": "display_data"
    }
   ],
   "source": [
    "def gen_problem(m, n):\n",
    "    from numpy import arange, tile, cumprod, insert, ones\n",
    "    # 1 + x + x^2 + ... + x^n, x = 0:m\n",
    "    X = np.empty((m, n+1))\n",
    "    x_col = arange(m).reshape((m, 1)) # 0, 1, 2, ..., m-1\n",
    "    X[:, 0] = 1.0\n",
    "    X[:, 1:] = tile(x_col, reps=(1, n))\n",
    "    X[:, 1:] = cumprod(X[:, 1:], axis=1)\n",
    "    theta = ones((n+1, 1))\n",
    "    y = np.sum(X, axis=1).reshape((m, 1))\n",
    "    return X, y, theta\n",
    "\n",
    "print(\"Sample generated problem:\")\n",
    "m, n = 10, 2\n",
    "X, y, theta_true = gen_problem(m, n)\n",
    "\n",
    "display(Math(r'X = {}, \\quad y = {} \\quad \\implies \\quad \\theta^* = {}'.format(nparray_to_bmatrix(X),\n",
    "                                                                               nparray_to_bmatrix(y),\n",
    "                                                                               nparray_to_bmatrix(theta_true))))"
   ]
  },
  {
   "cell_type": "markdown",
   "metadata": {},
   "source": [
    "We are interested primarily in _overdetermined systems_, meaning $X$ has more rows than columns, i.e., $m > n+1$, as shown above. That's because typically we have more observations (data points, or rows) than predictors (variables or columns). For such problems, there is generally no unique solution.\n",
    "\n",
    "Therefore, to identify some solution, we need to ask for the \"best\" fit and say what we mean by \"best.\" For linear regression, the usual definition of \"best\" is _minimizing_ the sum-of-squared residual error:\n",
    "\n",
    "$$ \\theta^* = {\\arg\\min_\\theta} \\|X \\theta - y\\|_2^2. $$\n",
    "\n",
    "Solving this minimization problem is equivalent to solving a special system known as the _normal equations_,\n",
    "\n",
    "$$\n",
    "  X^T X \\theta^* = X^T y.\n",
    "$$\n",
    "\n",
    "So, our computational task is to solve this problem."
   ]
  },
  {
   "cell_type": "markdown",
   "metadata": {},
   "source": [
    "## Algorithm 1: Direct solution of the normal equations\n",
    "\n",
    "The preceding calculation immediately suggests the following algorithm to estimate $\\theta^*$. Given $X$ and $y$:\n",
    "\n",
    "1. Form $C \\equiv X^T X$. This object is sometimes called the [Gram matrix](https://en.wikipedia.org/wiki/Gramian_matrix) or Gramian of $X$.\n",
    "2. Form $b \\equiv X^T y$.\n",
    "3. Solve $C \\theta^* = b$ for $\\theta^*$.\n",
    "\n",
    "But, is this a \"good\" algorithm? There are at least three dimensions along which we might answer this question.\n",
    "\n",
    "1. Is it accurate enough?\n",
    "2. Is it fast enough?\n",
    "3. Is it memory-efficient enough?\n",
    "\n",
    "Let's examine these questions by experiment."
   ]
  },
  {
   "cell_type": "markdown",
   "metadata": {},
   "source": [
    "**Exercise 1** (3 points). Implement a function, `solve_neq(X, y)` that implements Algorithm 1. It should return a Numpy vector containing the model parameter estimates.\n",
    "\n",
    "Recall the steps of the algorithm as previously outlined:\n",
    "\n",
    "1. Form the Gramian of $X$, $C \\equiv X^T X$.\n",
    "2. Form $b \\equiv X^T y$.\n",
    "3. Solve $C \\theta^* = b$ for $\\theta^*$.\n",
    "\n",
    "Your algorithm should carry out these steps. For the third step, use Scipy's routine, [`scipy.linalg.solve()`](https://docs.scipy.org/doc/scipy/reference/tutorial/linalg.html#solving-linear-system). It has an option that allows you to indicate that $C$ is symmetric and positive definite, which will be true of $C$ for our synthetic problem.\n",
    "\n",
    "> The code cell will run your function to compute a set of parameter estimates. It will store these in a variable named `theta_neq`, which we will refer to later."
   ]
  },
  {
   "cell_type": "code",
   "execution_count": 4,
   "metadata": {},
   "outputs": [
    {
     "data": {
      "text/plain": [
       "array([[ 1.,  0.,  0.],\n",
       "       [ 1.,  1.,  1.],\n",
       "       [ 1.,  2.,  4.],\n",
       "       [ 1.,  3.,  9.],\n",
       "       [ 1.,  4., 16.],\n",
       "       [ 1.,  5., 25.],\n",
       "       [ 1.,  6., 36.],\n",
       "       [ 1.,  7., 49.],\n",
       "       [ 1.,  8., 64.],\n",
       "       [ 1.,  9., 81.]])"
      ]
     },
     "execution_count": 4,
     "metadata": {},
     "output_type": "execute_result"
    }
   ],
   "source": [
    "X"
   ]
  },
  {
   "cell_type": "code",
   "execution_count": 6,
   "metadata": {
    "nbgrader": {
     "grade": false,
     "grade_id": "solve_neq",
     "locked": false,
     "schema_version": 1,
     "solution": true
    }
   },
   "outputs": [
    {
     "name": "stdout",
     "output_type": "stream",
     "text": [
      "[[1.0000e+01 4.5000e+01 2.8500e+02]\n",
      " [4.5000e+01 2.8500e+02 2.0250e+03]\n",
      " [2.8500e+02 2.0250e+03 1.5333e+04]]\n",
      "[[  340.]\n",
      " [ 2355.]\n",
      " [17643.]]\n",
      "Your implementation's solution versus the true solution:\n"
     ]
    },
    {
     "data": {
      "text/html": [
       "<div>\n",
       "<style scoped>\n",
       "    .dataframe tbody tr th:only-of-type {\n",
       "        vertical-align: middle;\n",
       "    }\n",
       "\n",
       "    .dataframe tbody tr th {\n",
       "        vertical-align: top;\n",
       "    }\n",
       "\n",
       "    .dataframe thead th {\n",
       "        text-align: right;\n",
       "    }\n",
       "</style>\n",
       "<table border=\"1\" class=\"dataframe\">\n",
       "  <thead>\n",
       "    <tr style=\"text-align: right;\">\n",
       "      <th></th>\n",
       "      <th>theta_neq</th>\n",
       "      <th>theta_true</th>\n",
       "      <th>error</th>\n",
       "    </tr>\n",
       "  </thead>\n",
       "  <tbody>\n",
       "    <tr>\n",
       "      <th>0</th>\n",
       "      <td>1.0</td>\n",
       "      <td>1.0</td>\n",
       "      <td>1.199041e-14</td>\n",
       "    </tr>\n",
       "    <tr>\n",
       "      <th>1</th>\n",
       "      <td>1.0</td>\n",
       "      <td>1.0</td>\n",
       "      <td>8.215650e-15</td>\n",
       "    </tr>\n",
       "    <tr>\n",
       "      <th>2</th>\n",
       "      <td>1.0</td>\n",
       "      <td>1.0</td>\n",
       "      <td>-1.332268e-15</td>\n",
       "    </tr>\n",
       "  </tbody>\n",
       "</table>\n",
       "</div>"
      ],
      "text/plain": [
       "   theta_neq  theta_true         error\n",
       "0        1.0         1.0  1.199041e-14\n",
       "1        1.0         1.0  8.215650e-15\n",
       "2        1.0         1.0 -1.332268e-15"
      ]
     },
     "metadata": {},
     "output_type": "display_data"
    }
   ],
   "source": [
    "print(X.T.dot(X))\n",
    "print(X.T.dot(y))\n",
    "\n",
    "def solve_neq(X, y):\n",
    "    C = X.T.dot(X)\n",
    "    b = X.T.dot(y)\n",
    "    c_theta = scipy.linalg.solve(C, b)\n",
    "    return c_theta\n",
    "\n",
    "theta_neq = solve_neq(X, y)\n",
    "\n",
    "print(\"Your implementation's solution versus the true solution:\")\n",
    "show_2vecs_tibble(theta_neq, theta_true, xname='theta_neq', yname='theta_true', error=True)"
   ]
  },
  {
   "cell_type": "code",
   "execution_count": 7,
   "metadata": {
    "deletable": false,
    "editable": false,
    "nbgrader": {
     "grade": true,
     "grade_id": "solve_neq_test",
     "locked": true,
     "points": 3,
     "schema_version": 1,
     "solution": false
    }
   },
   "outputs": [
    {
     "name": "stdout",
     "output_type": "stream",
     "text": [
      "\n",
      "(Passed!)\n"
     ]
    }
   ],
   "source": [
    "# Test cell: `solve_neq_test`\n",
    "\n",
    "try:\n",
    "    del np.linalg.lstsq\n",
    "    solve_neq(X, y)\n",
    "except NameError as n:\n",
    "    if re.findall('lstsq', n.args[0]):\n",
    "        print(\"*** Double-check that you did not try to use `lstsq()`. ***\")\n",
    "    raise n\n",
    "except AttributeError as a:\n",
    "    if re.findall('lstsq', a.args[0]):\n",
    "        print(\"*** Double-check that you did not try to use `lstsq()`. ***\")\n",
    "    raise a\n",
    "finally:\n",
    "    np.linalg.lstsq = SAVE_LSTSQ\n",
    "\n",
    "assert type(theta_neq) is np.ndarray, \"`theta_neq` should be a Numpy array, but isn't.\"\n",
    "assert theta_neq.shape == (n+1, 1), \"`theta_neq.shape` is {} instead of {}.\".format(theta_neq.shape, (n+1, 1))\n",
    "\n",
    "assert (np.abs(theta_neq - theta_true) <= 1e-12).all(), \\\n",
    "       \"Your `theta_neq` does not match the true solution, `theta_true`.\"\n",
    "\n",
    "print(\"\\n(Passed!)\")"
   ]
  },
  {
   "cell_type": "markdown",
   "metadata": {},
   "source": [
    "**Exercise 2** (1 point). Write a function to calculate the residual norm, $\\|r\\|_2 = \\|X \\theta^* - y\\|_2$.\n",
    "\n",
    "> Although we are minimizing $\\|r\\|_2^2$, for this exercise your function should return $\\|r\\|_2$."
   ]
  },
  {
   "cell_type": "code",
   "execution_count": 9,
   "metadata": {
    "nbgrader": {
     "grade": false,
     "grade_id": "calc_residual_norm",
     "locked": false,
     "schema_version": 1,
     "solution": true
    }
   },
   "outputs": [
    {
     "name": "stdout",
     "output_type": "stream",
     "text": [
      "\n",
      "The squared residual norm: 6.024246504310116e-14\n"
     ]
    }
   ],
   "source": [
    "def calc_residual_norm(X, y, theta):\n",
    "    return np.linalg.norm(X.dot(theta) - y)\n",
    "\n",
    "r_norm_neq = calc_residual_norm(X, y, theta_neq)\n",
    "print(\"\\nThe squared residual norm:\", r_norm_neq)"
   ]
  },
  {
   "cell_type": "code",
   "execution_count": 10,
   "metadata": {
    "deletable": false,
    "editable": false,
    "nbgrader": {
     "grade": true,
     "grade_id": "calc_residual_norm_test",
     "locked": true,
     "points": 1,
     "schema_version": 1,
     "solution": false
    }
   },
   "outputs": [
    {
     "name": "stdout",
     "output_type": "stream",
     "text": [
      "\n",
      "(Passed.)\n"
     ]
    }
   ],
   "source": [
    "# Test cell: `calc_residual_norm_test`\n",
    "\n",
    "r_norm_neq = calc_residual_norm(X, y, theta_neq)\n",
    "assert 1e-16 <= np.abs(r_norm_neq) <= 1e-12\n",
    "print (\"\\n(Passed.)\")"
   ]
  },
  {
   "cell_type": "markdown",
   "metadata": {},
   "source": [
    "## Sources of error\n",
    "\n",
    "We said before that one question we should ask about our algorithm is whether it is \"accurate enough.\" But what does that mean?"
   ]
  },
  {
   "cell_type": "markdown",
   "metadata": {},
   "source": [
    "**Exercise 3** (ungraded). For any modeling problem, there will be several sources of error. Describe at least three such sources."
   ]
  },
  {
   "cell_type": "markdown",
   "metadata": {
    "deletable": false,
    "editable": false,
    "nbgrader": {
     "grade": false,
     "grade_id": "error_sources",
     "locked": true,
     "schema_version": 1,
     "solution": false
    }
   },
   "source": [
    "**Answer.** Here are some possibilities.\n",
    "\n",
    "1. There will be errors in the inputs. That is, the data itself may only represent measurements of a certain accuracy.\n",
    "2. There will be errors in the model. That is, the model is only an approximation of the underlying phenomena.\n",
    "3. There will be errors in the algorithm. That is, you may implement an algorithm that can only approximately estimate the parameters of the model.\n",
    "4. There will be roundoff errors. Recall that floating-point arithmetic necessarily represents all values finitely, which means you may lose accuracy every time you do an arithmetic operation."
   ]
  },
  {
   "cell_type": "markdown",
   "metadata": {},
   "source": [
    "**Perturbations.** One way to understand error in a numerical computation is to consider how sensitive the computed solution is to perturbations to the input.\n",
    "\n",
    "That is, suppose we change $X$ by an amount $\\Delta X$. We can then ask by how much the computed model parameters $\\theta^*$ change. If they change by a lot, then our method for computing them may be overly sensitive to perturbations. Instead, we might prefer one method over another one that is more sensitive to changes.\n",
    "\n",
    "Let's see how Algorithm 1 fares under small perturbations. But first, we'll need a method to generate a random perturbation of a certain maximize size."
   ]
  },
  {
   "cell_type": "markdown",
   "metadata": {},
   "source": [
    "**Exercise 4** (2 points). Implement a function that returns an $m \\times n$ matrix whose entries are uniformly randomly distributed in the interval, $[0, \\epsilon]$ for a given value of $\\epsilon$.\n",
    "\n",
    "> Hint: Check out Numpy's module for generating (pseudo)random numbers: [`numpy.random`](https://docs.scipy.org/doc/numpy/reference/routines.random.html)"
   ]
  },
  {
   "cell_type": "code",
   "execution_count": 11,
   "metadata": {
    "nbgrader": {
     "grade": false,
     "grade_id": "rand_eps",
     "locked": false,
     "schema_version": 1,
     "solution": true
    }
   },
   "outputs": [
    {
     "name": "stdout",
     "output_type": "stream",
     "text": [
      "[[0.00070789 0.00012832]\n",
      " [0.00037498 0.0006355 ]\n",
      " [0.00052034 0.00020259]]\n"
     ]
    }
   ],
   "source": [
    "def random_mat (m, n, eps):\n",
    "    ###\n",
    "    ### YOUR CODE HERE\n",
    "    ###\n",
    "    return np.random.uniform(low=0.0, high=eps, size=(m, n))\n",
    "\n",
    "print(random_mat(3, 2, 1e-3))"
   ]
  },
  {
   "cell_type": "code",
   "execution_count": 12,
   "metadata": {
    "deletable": false,
    "editable": false,
    "nbgrader": {
     "grade": true,
     "grade_id": "rand_eps_test",
     "locked": true,
     "points": 2,
     "schema_version": 1,
     "solution": false
    }
   },
   "outputs": [
    {
     "name": "stdout",
     "output_type": "stream",
     "text": [
      "\n",
      "(Passed.)\n"
     ]
    }
   ],
   "source": [
    "# Test cell: `rand_eps_test`\n",
    "\n",
    "Z = random_mat (5, 3, 1e-2)\n",
    "assert Z.shape == (5, 3)\n",
    "assert ((Z >= 0) & (Z <= 1e-2)).all()\n",
    "print(\"\\n(Passed.)\")"
   ]
  },
  {
   "cell_type": "markdown",
   "metadata": {},
   "source": [
    "**Exercise 5** (2 points). Use your `random_mat()` function to write another function, `perturb_system(X, y, eps)`, that creates two \"perturbations\" to the system defined by `X` and `y`.\n",
    "\n",
    "1. Let $\\Delta X$ be the first perturbation. It should have the same dimensions as $X$, and its entries should lie in the interval $[-\\epsilon, \\epsilon]$. The value of $\\epsilon$ is given by `eps`.\n",
    "2. The second is $\\Delta y$, a small perturbation to the response variable, $y$. Its entries should also lie in the same interval, $[-\\epsilon, \\epsilon]$, \n",
    "\n",
    "Your function should return a perturbed system, $X + \\Delta X$ and $y + \\Delta y$, as a pair."
   ]
  },
  {
   "cell_type": "code",
   "execution_count": 14,
   "metadata": {
    "nbgrader": {
     "grade": false,
     "grade_id": "perturb_system",
     "locked": false,
     "schema_version": 1,
     "solution": true
    }
   },
   "outputs": [
    {
     "data": {
      "text/latex": [
       "$\\displaystyle \\Delta X = \\begin{bmatrix}\n",
       "  -0.03142676 & -0.0532717 & -0.04713171\\\\\n",
       "  -0.05453345 & 0.02842273 & -0.09080995\\\\\n",
       "  -0.05311493 & -0.02243503 & 0.02170903\\\\\n",
       "  -0.01025619 & -0.07673944 & 0.0010524\\\\\n",
       "  0.08834771 & -0.02297177 & 0.09319273\\\\\n",
       "\\end{bmatrix}, \\quad \\Delta y = \\begin{bmatrix}\n",
       "  0.01696677\\\\\n",
       "  -0.03255547\\\\\n",
       "  0.08034018\\\\\n",
       "  0.01325797\\\\\n",
       "  0.06881137\\\\\n",
       "\\end{bmatrix}$"
      ],
      "text/plain": [
       "<IPython.core.display.Math object>"
      ]
     },
     "metadata": {},
     "output_type": "display_data"
    }
   ],
   "source": [
    "def perturb_system(X, y, eps):\n",
    "    x_delta = random_mat(X.shape[0], X.shape[1], 2*eps) - eps\n",
    "    y_delta = random_mat(y.shape[0], y.shape[1], 2*eps) - eps\n",
    "    return X + x_delta, y + y_delta\n",
    "\n",
    "EPSILON = 0.1\n",
    "X_perturbed, y_perturbed = perturb_system(X, y, EPSILON)\n",
    "\n",
    "Delta_X = X_perturbed - X\n",
    "Delta_y = y_perturbed - y\n",
    "display(Math(r'\\Delta X = {}, \\quad \\Delta y = {}'.format(nparray_to_bmatrix(Delta_X[:5, :]),\n",
    "                                                          nparray_to_bmatrix(Delta_y[:5]))))"
   ]
  },
  {
   "cell_type": "code",
   "execution_count": 15,
   "metadata": {
    "deletable": false,
    "editable": false,
    "nbgrader": {
     "grade": true,
     "grade_id": "perturb_system_test",
     "locked": true,
     "points": 2,
     "schema_version": 1,
     "solution": false
    }
   },
   "outputs": [
    {
     "name": "stdout",
     "output_type": "stream",
     "text": [
      "\n",
      "(Passed.)\n"
     ]
    }
   ],
   "source": [
    "# Test cell: `delta_X_test`\n",
    "\n",
    "Delta_X = X_perturbed - X\n",
    "Delta_y = y_perturbed - y\n",
    "\n",
    "assert Delta_X.shape == X.shape, \"`Delta_X` has shape {} instead of {}.\".format(Delta_X.shape, X.shape)\n",
    "assert (np.abs(Delta_X) <= EPSILON).all(), \"The perturbation lies outside the interval, [-{}, {}]\".format(EPSILON, EPSILON)\n",
    "\n",
    "assert Delta_y.shape == y.shape, \"`Delta_y` has shape {} instead of {}.\".format(Delta_y.shape, y.shape)\n",
    "assert (np.abs(Delta_y) <= EPSILON).all(), \"The perturbation lies outside the interval, [-{}, {}]\".format(EPSILON, EPSILON)\n",
    "\n",
    "# Should replace with multiple trials and a proper distribution test:\n",
    "assert (Delta_X < 0).sum() > 0, \"Something's fishy -- Delta_X has *no* negative entries? (Possible but highly unlikely)\"\n",
    "assert (Delta_y < 0).sum() > 0, \"Something's fishy -- Delta_y has *no* negative entries? (Possibly but highly unlikely)\"\n",
    "\n",
    "print (\"\\n(Passed.)\")"
   ]
  },
  {
   "cell_type": "markdown",
   "metadata": {},
   "source": [
    "### Sensitivity of Algorithm 1\n",
    "\n",
    "Let's now run the following code, which uses your code from above to perform a \"sensitivity experiment.\" In particular, the function `run_perturbation_trials()` will repeatedly perturb the system and measure the resulting change to the estimated $\\theta^*$.\n",
    "\n",
    "All of the estimated $\\theta^*$ are stored in an array, `Thetas_neq`. Each _column_ `k` of `Thetas_neq`, or `Thetas_neq[:, k]`, is one of the calculated estimates under a random perturbation of the system.\n",
    "\n",
    "The size of the random perturbation is set, by default, to `eps=0.01`. Recall that our synthetic problem consists of numerical values that are all greater than or equal to one, so this perturbation may be regarded as fairly small."
   ]
  },
  {
   "cell_type": "code",
   "execution_count": 16,
   "metadata": {},
   "outputs": [
    {
     "name": "stdout",
     "output_type": "stream",
     "text": [
      "Unperturbed solution:\n",
      "[[1.]\n",
      " [1.]\n",
      " [1.]]\n",
      "First few perturbed solutions (columns):\n",
      "[[0.98475777 1.01135637 0.99481791 0.99776169 0.9909759 ]\n",
      " [1.00817651 0.99942652 1.00289415 0.99989331 1.00209448]\n",
      " [0.99924795 0.99989523 0.99979847 0.99998213 0.99982888]]\n"
     ]
    }
   ],
   "source": [
    "def run_perturbation_trials(solver, X, y, eps=0.01, trials=100):\n",
    "    Thetas = np.zeros((X.shape[1], trials)) # Store all computed thetas\n",
    "    for t in range(trials):\n",
    "        X_p, y_p = perturb_system(X, y, eps)\n",
    "        Thetas[:, t:t+1] = solver(X_p, y_p)\n",
    "    return Thetas\n",
    "\n",
    "Thetas_neq = run_perturbation_trials(solve_neq, X, y)\n",
    "\n",
    "print(\"Unperturbed solution:\")\n",
    "print(theta_neq)\n",
    "\n",
    "print(\"First few perturbed solutions (columns):\")\n",
    "print(Thetas_neq[:, :5])"
   ]
  },
  {
   "cell_type": "markdown",
   "metadata": {},
   "source": [
    "Here is a quick plot of the that shows two coordinates of the true parameters (red star), compared to all perturbed estimates (blue points). We would have more confidence in the algorithm's computed solutions if it did not appear to be too sensitive to changes in the input.\n",
    "\n",
    "Since $\\theta$ may have more than two coordinates, the code below shows the first two coordinates."
   ]
  },
  {
   "cell_type": "code",
   "execution_count": 17,
   "metadata": {},
   "outputs": [
    {
     "data": {
      "image/png": "[encoded data removed]",
      "text/plain": [
       "<Figure size 432x288 with 1 Axes>"
      ]
     },
     "metadata": {
      "needs_background": "light"
     },
     "output_type": "display_data"
    }
   ],
   "source": [
    "# Makes a 2-D scatter plot of given theta values.\n",
    "# If the thetas have more than two dimensions, only\n",
    "# the first and last are displayed by default.\n",
    "# (Override by setting ax and ay.)\n",
    "\n",
    "def scatter_thetas(Thetas, theta_true=None, ax=0, ay=-1, xylim=None, title=None):\n",
    "    import matplotlib.pyplot as plt\n",
    "    assert type(Thetas) is np.ndarray and Thetas.shape[0] >= 2\n",
    "    scatter(Thetas[ax, :], Thetas[ay, :])\n",
    "    xlabel('{}-coordinate'.format(ax if ax >= 0 else Thetas.shape[0]+ax))\n",
    "    ylabel('{}-coordinate'.format(ay if ay >= 0 else Thetas.shape[0]+ay))\n",
    "    if xylim is not None:\n",
    "        axis(xylim)\n",
    "    else:\n",
    "        axis('equal')\n",
    "    if theta_true is not None:\n",
    "        assert type(theta_true) is np.ndarray and theta_true.shape[0] >= 2 and theta_true.shape[1] == 1\n",
    "        scatter(theta_true[ax], theta_true[ay], marker='*', color='red', s=15**2)\n",
    "    if title is not None:\n",
    "        plt.title(title)\n",
    "        \n",
    "def calc_lims(x, buffer=0.1):\n",
    "    xmin = x.min()\n",
    "    xmax = x.max()\n",
    "    dx = (xmax - xmin) * buffer\n",
    "    return xmin-dx, xmax+dx\n",
    "        \n",
    "scatter_thetas(Thetas_neq, theta_true=theta_true, ax=0, ay=2)\n",
    "axis('square');"
   ]
  },
  {
   "cell_type": "markdown",
   "metadata": {},
   "source": [
    "You should observe that the change in the estimates are of the same order as the perturbation. So for this example system, the algorithm seems reliable enough."
   ]
  },
  {
   "cell_type": "markdown",
   "metadata": {
    "collapsed": true
   },
   "source": [
    "## Stress-testing Algorithm 1\n",
    "\n",
    "This experiment suggests all is fine. But what should we _expect_ to happen?\n",
    "\n",
    "We've prepared another [notebook](./notes-cond.ipynb) that walks you through an analysis of solving linear systems. It turns out you can estimate how hard it is to solve a linear system using a measure called the _condition number_. We can denote the condition number of solving a system by $\\kappa(X)$ where $X$ is the matrix. The larger this number is, the more sensitive the problem is.\n",
    "\n",
    "In Numpy, there is a condition number estimator that will tell us approximately what the condition number is for a given matrix. Let's compare $\\kappa(X)$ and $\\kappa(C) = \\kappa(X^TX)$:"
   ]
  },
  {
   "cell_type": "code",
   "execution_count": 18,
   "metadata": {},
   "outputs": [
    {
     "data": {
      "text/latex": [
       "$\\displaystyle \\kappa(X) \\approx 1.07\\times 10^{2}$"
      ],
      "text/plain": [
       "<IPython.core.display.Math object>"
      ]
     },
     "metadata": {},
     "output_type": "display_data"
    },
    {
     "data": {
      "text/latex": [
       "$\\displaystyle \\kappa(X^T X) \\approx 1.15\\times 10^{4}$"
      ],
      "text/plain": [
       "<IPython.core.display.Math object>"
      ]
     },
     "metadata": {},
     "output_type": "display_data"
    },
    {
     "data": {
      "text/latex": [
       "$\\displaystyle \\kappa(X)^2 \\approx 1.15\\times 10^{4}$"
      ],
      "text/plain": [
       "<IPython.core.display.Math object>"
      ]
     },
     "metadata": {},
     "output_type": "display_data"
    }
   ],
   "source": [
    "cond_X = np.linalg.cond(X)\n",
    "cond_XTX = np.linalg.cond(X.T.dot(X))\n",
    "\n",
    "assert 1. <= cond_X <= 3e3\n",
    "assert 1. <= cond_XTX <= 6e6\n",
    "\n",
    "show_cond_fancy(cond_X, 'X')\n",
    "show_cond_fancy(cond_XTX, 'X^T X')\n",
    "show_cond_fancy(cond_X**2, 'X', opt='^2')"
   ]
  },
  {
   "cell_type": "markdown",
   "metadata": {},
   "source": [
    "**Ill-conditioning.** As it happens, $\\kappa(C)$ is roughly the **square** of $\\kappa(X)$. So, by forming $C$ explicitly and then trying to solve a system based on it, we make the problem _more_ difficult. Indeed, if the problem is ill-conditioned enough, this algorithm based on directly constructing the normal equations will produce very different results even under small changes, and we call the algorithm _unstable_.\n",
    "\n",
    "In this particular example, the condition numbers are not very \"big.\" You would be more concerned if the condition numbers were close to $1/\\epsilon$, where $\\epsilon$ is machine epsilon. In double-precision, recall that $\\epsilon_d \\approx 10^{-15}$, so the values shown above are nothing to be worried about.\n",
    "\n",
    "But what if we had a \"hard\" problem, that is, one whose condition number is large? The synthetic data generator allows us to create such a problem by making the problem bigger. Let's try that next. (To do this, we'll increase the size of the above-described Vandermonde matrix from $(i,j)=(10,2)$ to $(i,j)=(100,6)$.)"
   ]
  },
  {
   "cell_type": "code",
   "execution_count": 19,
   "metadata": {},
   "outputs": [
    {
     "name": "stdout",
     "output_type": "stream",
     "text": [
      "First few rows of data:\n",
      "True parameter estimates:\n",
      "[[1.]\n",
      " [1.]\n",
      " [1.]\n",
      " [1.]\n",
      " [1.]\n",
      " [1.]\n",
      " [1.]]\n"
     ]
    },
    {
     "data": {
      "text/latex": [
       "$\\displaystyle \\kappa(X_h) \\approx 1.72\\times 10^{12}$"
      ],
      "text/plain": [
       "<IPython.core.display.Math object>"
      ]
     },
     "metadata": {},
     "output_type": "display_data"
    },
    {
     "data": {
      "text/latex": [
       "$\\displaystyle \\kappa(X_h^T X_h) \\approx 2.82\\times 10^{23}$"
      ],
      "text/plain": [
       "<IPython.core.display.Math object>"
      ]
     },
     "metadata": {},
     "output_type": "display_data"
    }
   ],
   "source": [
    "# Generate a \"hard\" problem\n",
    "m_hard, n_hard = 100, 6\n",
    "X_hard, y_hard, theta_hard_true = gen_problem(m_hard, n_hard)\n",
    "\n",
    "df_hard = make_data_tibble(X_hard, y_hard)\n",
    "print(\"First few rows of data:\")\n",
    "df_hard.head()\n",
    "print(\"True parameter estimates:\\n{}\".format(theta_hard_true))\n",
    "\n",
    "cond_X_hard = np.linalg.cond(X_hard)\n",
    "cond_XTX_hard = np.linalg.cond(X_hard.T.dot(X_hard))\n",
    "\n",
    "name_X_hard = 'X_h'\n",
    "show_cond_fancy(cond_X_hard, name_X_hard)\n",
    "show_cond_fancy(cond_XTX_hard, '{}^T {}'.format(name_X_hard, name_X_hard))"
   ]
  },
  {
   "cell_type": "markdown",
   "metadata": {},
   "source": [
    "These condition numbers are much larger. So, let's run the same sensitivity experiment as before, and see how the estimate varies for the hard problem. How does it compare to the well-conditioned case?"
   ]
  },
  {
   "cell_type": "code",
   "execution_count": 20,
   "metadata": {},
   "outputs": [
    {
     "name": "stdout",
     "output_type": "stream",
     "text": [
      "Residual norm for one of the trials:\n"
     ]
    },
    {
     "name": "stderr",
     "output_type": "stream",
     "text": [
      "/usr/lib/python3.7/site-packages/ipykernel_launcher.py:7: LinAlgWarning: Ill-conditioned matrix (rcond=2.83287e-25): result may not be accurate.\n",
      "  import sys\n",
      "/usr/lib/python3.7/site-packages/ipykernel_launcher.py:7: LinAlgWarning: Ill-conditioned matrix (rcond=2.78436e-25): result may not be accurate.\n",
      "  import sys\n",
      "/usr/lib/python3.7/site-packages/ipykernel_launcher.py:7: LinAlgWarning: Ill-conditioned matrix (rcond=2.80924e-25): result may not be accurate.\n",
      "  import sys\n",
      "/usr/lib/python3.7/site-packages/ipykernel_launcher.py:7: LinAlgWarning: Ill-conditioned matrix (rcond=2.82501e-25): result may not be accurate.\n",
      "  import sys\n",
      "/usr/lib/python3.7/site-packages/ipykernel_launcher.py:7: LinAlgWarning: Ill-conditioned matrix (rcond=2.77988e-25): result may not be accurate.\n",
      "  import sys\n",
      "/usr/lib/python3.7/site-packages/ipykernel_launcher.py:7: LinAlgWarning: Ill-conditioned matrix (rcond=2.79773e-25): result may not be accurate.\n",
      "  import sys\n",
      "/usr/lib/python3.7/site-packages/ipykernel_launcher.py:7: LinAlgWarning: Ill-conditioned matrix (rcond=2.83979e-25): result may not be accurate.\n",
      "  import sys\n",
      "/usr/lib/python3.7/site-packages/ipykernel_launcher.py:7: LinAlgWarning: Ill-conditioned matrix (rcond=2.81044e-25): result may not be accurate.\n",
      "  import sys\n",
      "/usr/lib/python3.7/site-packages/ipykernel_launcher.py:7: LinAlgWarning: Ill-conditioned matrix (rcond=2.80319e-25): result may not be accurate.\n",
      "  import sys\n",
      "/usr/lib/python3.7/site-packages/ipykernel_launcher.py:7: LinAlgWarning: Ill-conditioned matrix (rcond=2.83931e-25): result may not be accurate.\n",
      "  import sys\n",
      "/usr/lib/python3.7/site-packages/ipykernel_launcher.py:7: LinAlgWarning: Ill-conditioned matrix (rcond=2.78195e-25): result may not be accurate.\n",
      "  import sys\n",
      "/usr/lib/python3.7/site-packages/ipykernel_launcher.py:7: LinAlgWarning: Ill-conditioned matrix (rcond=2.80378e-25): result may not be accurate.\n",
      "  import sys\n",
      "/usr/lib/python3.7/site-packages/ipykernel_launcher.py:7: LinAlgWarning: Ill-conditioned matrix (rcond=2.82822e-25): result may not be accurate.\n",
      "  import sys\n",
      "/usr/lib/python3.7/site-packages/ipykernel_launcher.py:7: LinAlgWarning: Ill-conditioned matrix (rcond=2.78484e-25): result may not be accurate.\n",
      "  import sys\n",
      "/usr/lib/python3.7/site-packages/ipykernel_launcher.py:7: LinAlgWarning: Ill-conditioned matrix (rcond=2.78088e-25): result may not be accurate.\n",
      "  import sys\n",
      "/usr/lib/python3.7/site-packages/ipykernel_launcher.py:7: LinAlgWarning: Ill-conditioned matrix (rcond=2.7707e-25): result may not be accurate.\n",
      "  import sys\n",
      "/usr/lib/python3.7/site-packages/ipykernel_launcher.py:7: LinAlgWarning: Ill-conditioned matrix (rcond=2.83291e-25): result may not be accurate.\n",
      "  import sys\n",
      "/usr/lib/python3.7/site-packages/ipykernel_launcher.py:7: LinAlgWarning: Ill-conditioned matrix (rcond=2.85662e-25): result may not be accurate.\n",
      "  import sys\n",
      "/usr/lib/python3.7/site-packages/ipykernel_launcher.py:7: LinAlgWarning: Ill-conditioned matrix (rcond=2.80509e-25): result may not be accurate.\n",
      "  import sys\n",
      "/usr/lib/python3.7/site-packages/ipykernel_launcher.py:7: LinAlgWarning: Ill-conditioned matrix (rcond=2.80424e-25): result may not be accurate.\n",
      "  import sys\n",
      "/usr/lib/python3.7/site-packages/ipykernel_launcher.py:7: LinAlgWarning: Ill-conditioned matrix (rcond=2.85342e-25): result may not be accurate.\n",
      "  import sys\n",
      "/usr/lib/python3.7/site-packages/ipykernel_launcher.py:7: LinAlgWarning: Ill-conditioned matrix (rcond=2.77859e-25): result may not be accurate.\n",
      "  import sys\n",
      "/usr/lib/python3.7/site-packages/ipykernel_launcher.py:7: LinAlgWarning: Ill-conditioned matrix (rcond=2.80977e-25): result may not be accurate.\n",
      "  import sys\n",
      "/usr/lib/python3.7/site-packages/ipykernel_launcher.py:7: LinAlgWarning: Ill-conditioned matrix (rcond=2.80545e-25): result may not be accurate.\n",
      "  import sys\n",
      "/usr/lib/python3.7/site-packages/ipykernel_launcher.py:7: LinAlgWarning: Ill-conditioned matrix (rcond=2.80309e-25): result may not be accurate.\n",
      "  import sys\n",
      "/usr/lib/python3.7/site-packages/ipykernel_launcher.py:7: LinAlgWarning: Ill-conditioned matrix (rcond=2.8244e-25): result may not be accurate.\n",
      "  import sys\n",
      "/usr/lib/python3.7/site-packages/ipykernel_launcher.py:7: LinAlgWarning: Ill-conditioned matrix (rcond=2.81388e-25): result may not be accurate.\n",
      "  import sys\n",
      "/usr/lib/python3.7/site-packages/ipykernel_launcher.py:7: LinAlgWarning: Ill-conditioned matrix (rcond=2.85128e-25): result may not be accurate.\n",
      "  import sys\n",
      "/usr/lib/python3.7/site-packages/ipykernel_launcher.py:7: LinAlgWarning: Ill-conditioned matrix (rcond=2.81185e-25): result may not be accurate.\n",
      "  import sys\n",
      "/usr/lib/python3.7/site-packages/ipykernel_launcher.py:7: LinAlgWarning: Ill-conditioned matrix (rcond=2.77586e-25): result may not be accurate.\n",
      "  import sys\n",
      "/usr/lib/python3.7/site-packages/ipykernel_launcher.py:7: LinAlgWarning: Ill-conditioned matrix (rcond=2.79108e-25): result may not be accurate.\n",
      "  import sys\n",
      "/usr/lib/python3.7/site-packages/ipykernel_launcher.py:7: LinAlgWarning: Ill-conditioned matrix (rcond=2.78141e-25): result may not be accurate.\n",
      "  import sys\n",
      "/usr/lib/python3.7/site-packages/ipykernel_launcher.py:7: LinAlgWarning: Ill-conditioned matrix (rcond=2.79878e-25): result may not be accurate.\n",
      "  import sys\n",
      "/usr/lib/python3.7/site-packages/ipykernel_launcher.py:7: LinAlgWarning: Ill-conditioned matrix (rcond=2.79682e-25): result may not be accurate.\n",
      "  import sys\n",
      "/usr/lib/python3.7/site-packages/ipykernel_launcher.py:7: LinAlgWarning: Ill-conditioned matrix (rcond=2.80065e-25): result may not be accurate.\n",
      "  import sys\n",
      "/usr/lib/python3.7/site-packages/ipykernel_launcher.py:7: LinAlgWarning: Ill-conditioned matrix (rcond=2.77466e-25): result may not be accurate.\n",
      "  import sys\n",
      "/usr/lib/python3.7/site-packages/ipykernel_launcher.py:7: LinAlgWarning: Ill-conditioned matrix (rcond=2.83092e-25): result may not be accurate.\n",
      "  import sys\n",
      "/usr/lib/python3.7/site-packages/ipykernel_launcher.py:7: LinAlgWarning: Ill-conditioned matrix (rcond=2.78538e-25): result may not be accurate.\n",
      "  import sys\n",
      "/usr/lib/python3.7/site-packages/ipykernel_launcher.py:7: LinAlgWarning: Ill-conditioned matrix (rcond=2.78849e-25): result may not be accurate.\n",
      "  import sys\n",
      "/usr/lib/python3.7/site-packages/ipykernel_launcher.py:7: LinAlgWarning: Ill-conditioned matrix (rcond=2.81133e-25): result may not be accurate.\n",
      "  import sys\n",
      "/usr/lib/python3.7/site-packages/ipykernel_launcher.py:7: LinAlgWarning: Ill-conditioned matrix (rcond=2.83568e-25): result may not be accurate.\n",
      "  import sys\n",
      "/usr/lib/python3.7/site-packages/ipykernel_launcher.py:7: LinAlgWarning: Ill-conditioned matrix (rcond=2.78439e-25): result may not be accurate.\n",
      "  import sys\n",
      "/usr/lib/python3.7/site-packages/ipykernel_launcher.py:7: LinAlgWarning: Ill-conditioned matrix (rcond=2.80869e-25): result may not be accurate.\n",
      "  import sys\n",
      "/usr/lib/python3.7/site-packages/ipykernel_launcher.py:7: LinAlgWarning: Ill-conditioned matrix (rcond=2.77906e-25): result may not be accurate.\n",
      "  import sys\n",
      "/usr/lib/python3.7/site-packages/ipykernel_launcher.py:7: LinAlgWarning: Ill-conditioned matrix (rcond=2.80651e-25): result may not be accurate.\n",
      "  import sys\n",
      "/usr/lib/python3.7/site-packages/ipykernel_launcher.py:7: LinAlgWarning: Ill-conditioned matrix (rcond=2.7887e-25): result may not be accurate.\n",
      "  import sys\n",
      "/usr/lib/python3.7/site-packages/ipykernel_launcher.py:7: LinAlgWarning: Ill-conditioned matrix (rcond=2.77489e-25): result may not be accurate.\n",
      "  import sys\n",
      "/usr/lib/python3.7/site-packages/ipykernel_launcher.py:7: LinAlgWarning: Ill-conditioned matrix (rcond=2.82948e-25): result may not be accurate.\n",
      "  import sys\n",
      "/usr/lib/python3.7/site-packages/ipykernel_launcher.py:7: LinAlgWarning: Ill-conditioned matrix (rcond=2.80008e-25): result may not be accurate.\n",
      "  import sys\n",
      "/usr/lib/python3.7/site-packages/ipykernel_launcher.py:7: LinAlgWarning: Ill-conditioned matrix (rcond=2.83456e-25): result may not be accurate.\n",
      "  import sys\n",
      "/usr/lib/python3.7/site-packages/ipykernel_launcher.py:7: LinAlgWarning: Ill-conditioned matrix (rcond=2.80029e-25): result may not be accurate.\n",
      "  import sys\n",
      "/usr/lib/python3.7/site-packages/ipykernel_launcher.py:7: LinAlgWarning: Ill-conditioned matrix (rcond=2.79591e-25): result may not be accurate.\n",
      "  import sys\n",
      "/usr/lib/python3.7/site-packages/ipykernel_launcher.py:7: LinAlgWarning: Ill-conditioned matrix (rcond=2.81914e-25): result may not be accurate.\n",
      "  import sys\n",
      "/usr/lib/python3.7/site-packages/ipykernel_launcher.py:7: LinAlgWarning: Ill-conditioned matrix (rcond=2.83756e-25): result may not be accurate.\n",
      "  import sys\n",
      "/usr/lib/python3.7/site-packages/ipykernel_launcher.py:7: LinAlgWarning: Ill-conditioned matrix (rcond=2.80649e-25): result may not be accurate.\n",
      "  import sys\n",
      "/usr/lib/python3.7/site-packages/ipykernel_launcher.py:7: LinAlgWarning: Ill-conditioned matrix (rcond=2.78137e-25): result may not be accurate.\n",
      "  import sys\n",
      "/usr/lib/python3.7/site-packages/ipykernel_launcher.py:7: LinAlgWarning: Ill-conditioned matrix (rcond=2.8225e-25): result may not be accurate.\n",
      "  import sys\n",
      "/usr/lib/python3.7/site-packages/ipykernel_launcher.py:7: LinAlgWarning: Ill-conditioned matrix (rcond=2.7872e-25): result may not be accurate.\n",
      "  import sys\n",
      "/usr/lib/python3.7/site-packages/ipykernel_launcher.py:7: LinAlgWarning: Ill-conditioned matrix (rcond=2.81341e-25): result may not be accurate.\n",
      "  import sys\n",
      "/usr/lib/python3.7/site-packages/ipykernel_launcher.py:7: LinAlgWarning: Ill-conditioned matrix (rcond=2.78681e-25): result may not be accurate.\n",
      "  import sys\n",
      "/usr/lib/python3.7/site-packages/ipykernel_launcher.py:7: LinAlgWarning: Ill-conditioned matrix (rcond=2.80162e-25): result may not be accurate.\n",
      "  import sys\n",
      "/usr/lib/python3.7/site-packages/ipykernel_launcher.py:7: LinAlgWarning: Ill-conditioned matrix (rcond=2.7855e-25): result may not be accurate.\n",
      "  import sys\n",
      "/usr/lib/python3.7/site-packages/ipykernel_launcher.py:7: LinAlgWarning: Ill-conditioned matrix (rcond=2.81854e-25): result may not be accurate.\n",
      "  import sys\n",
      "/usr/lib/python3.7/site-packages/ipykernel_launcher.py:7: LinAlgWarning: Ill-conditioned matrix (rcond=2.78163e-25): result may not be accurate.\n",
      "  import sys\n",
      "/usr/lib/python3.7/site-packages/ipykernel_launcher.py:7: LinAlgWarning: Ill-conditioned matrix (rcond=2.81051e-25): result may not be accurate.\n",
      "  import sys\n",
      "/usr/lib/python3.7/site-packages/ipykernel_launcher.py:7: LinAlgWarning: Ill-conditioned matrix (rcond=2.76746e-25): result may not be accurate.\n",
      "  import sys\n",
      "/usr/lib/python3.7/site-packages/ipykernel_launcher.py:7: LinAlgWarning: Ill-conditioned matrix (rcond=2.79948e-25): result may not be accurate.\n",
      "  import sys\n",
      "/usr/lib/python3.7/site-packages/ipykernel_launcher.py:7: LinAlgWarning: Ill-conditioned matrix (rcond=2.79119e-25): result may not be accurate.\n",
      "  import sys\n",
      "/usr/lib/python3.7/site-packages/ipykernel_launcher.py:7: LinAlgWarning: Ill-conditioned matrix (rcond=2.82554e-25): result may not be accurate.\n",
      "  import sys\n",
      "/usr/lib/python3.7/site-packages/ipykernel_launcher.py:7: LinAlgWarning: Ill-conditioned matrix (rcond=2.81709e-25): result may not be accurate.\n",
      "  import sys\n",
      "/usr/lib/python3.7/site-packages/ipykernel_launcher.py:7: LinAlgWarning: Ill-conditioned matrix (rcond=2.79751e-25): result may not be accurate.\n",
      "  import sys\n",
      "/usr/lib/python3.7/site-packages/ipykernel_launcher.py:7: LinAlgWarning: Ill-conditioned matrix (rcond=2.76382e-25): result may not be accurate.\n",
      "  import sys\n",
      "/usr/lib/python3.7/site-packages/ipykernel_launcher.py:7: LinAlgWarning: Ill-conditioned matrix (rcond=2.81332e-25): result may not be accurate.\n",
      "  import sys\n",
      "/usr/lib/python3.7/site-packages/ipykernel_launcher.py:7: LinAlgWarning: Ill-conditioned matrix (rcond=2.8139e-25): result may not be accurate.\n",
      "  import sys\n",
      "/usr/lib/python3.7/site-packages/ipykernel_launcher.py:7: LinAlgWarning: Ill-conditioned matrix (rcond=2.83318e-25): result may not be accurate.\n",
      "  import sys\n",
      "/usr/lib/python3.7/site-packages/ipykernel_launcher.py:7: LinAlgWarning: Ill-conditioned matrix (rcond=2.79835e-25): result may not be accurate.\n",
      "  import sys\n",
      "/usr/lib/python3.7/site-packages/ipykernel_launcher.py:7: LinAlgWarning: Ill-conditioned matrix (rcond=2.80946e-25): result may not be accurate.\n",
      "  import sys\n",
      "/usr/lib/python3.7/site-packages/ipykernel_launcher.py:7: LinAlgWarning: Ill-conditioned matrix (rcond=2.8073e-25): result may not be accurate.\n",
      "  import sys\n",
      "/usr/lib/python3.7/site-packages/ipykernel_launcher.py:7: LinAlgWarning: Ill-conditioned matrix (rcond=2.81255e-25): result may not be accurate.\n",
      "  import sys\n",
      "/usr/lib/python3.7/site-packages/ipykernel_launcher.py:7: LinAlgWarning: Ill-conditioned matrix (rcond=2.83823e-25): result may not be accurate.\n",
      "  import sys\n",
      "/usr/lib/python3.7/site-packages/ipykernel_launcher.py:7: LinAlgWarning: Ill-conditioned matrix (rcond=2.80712e-25): result may not be accurate.\n",
      "  import sys\n",
      "/usr/lib/python3.7/site-packages/ipykernel_launcher.py:7: LinAlgWarning: Ill-conditioned matrix (rcond=2.81553e-25): result may not be accurate.\n",
      "  import sys\n",
      "/usr/lib/python3.7/site-packages/ipykernel_launcher.py:7: LinAlgWarning: Ill-conditioned matrix (rcond=2.82091e-25): result may not be accurate.\n",
      "  import sys\n",
      "/usr/lib/python3.7/site-packages/ipykernel_launcher.py:7: LinAlgWarning: Ill-conditioned matrix (rcond=2.81786e-25): result may not be accurate.\n",
      "  import sys\n",
      "/usr/lib/python3.7/site-packages/ipykernel_launcher.py:7: LinAlgWarning: Ill-conditioned matrix (rcond=2.79441e-25): result may not be accurate.\n",
      "  import sys\n",
      "/usr/lib/python3.7/site-packages/ipykernel_launcher.py:7: LinAlgWarning: Ill-conditioned matrix (rcond=2.83484e-25): result may not be accurate.\n",
      "  import sys\n",
      "/usr/lib/python3.7/site-packages/ipykernel_launcher.py:7: LinAlgWarning: Ill-conditioned matrix (rcond=2.79683e-25): result may not be accurate.\n",
      "  import sys\n",
      "/usr/lib/python3.7/site-packages/ipykernel_launcher.py:7: LinAlgWarning: Ill-conditioned matrix (rcond=2.82686e-25): result may not be accurate.\n",
      "  import sys\n",
      "/usr/lib/python3.7/site-packages/ipykernel_launcher.py:7: LinAlgWarning: Ill-conditioned matrix (rcond=2.80019e-25): result may not be accurate.\n",
      "  import sys\n",
      "/usr/lib/python3.7/site-packages/ipykernel_launcher.py:7: LinAlgWarning: Ill-conditioned matrix (rcond=2.79279e-25): result may not be accurate.\n",
      "  import sys\n",
      "/usr/lib/python3.7/site-packages/ipykernel_launcher.py:7: LinAlgWarning: Ill-conditioned matrix (rcond=2.76476e-25): result may not be accurate.\n",
      "  import sys\n",
      "/usr/lib/python3.7/site-packages/ipykernel_launcher.py:7: LinAlgWarning: Ill-conditioned matrix (rcond=2.81265e-25): result may not be accurate.\n",
      "  import sys\n",
      "/usr/lib/python3.7/site-packages/ipykernel_launcher.py:7: LinAlgWarning: Ill-conditioned matrix (rcond=2.80441e-25): result may not be accurate.\n",
      "  import sys\n",
      "/usr/lib/python3.7/site-packages/ipykernel_launcher.py:7: LinAlgWarning: Ill-conditioned matrix (rcond=2.81177e-25): result may not be accurate.\n",
      "  import sys\n",
      "/usr/lib/python3.7/site-packages/ipykernel_launcher.py:7: LinAlgWarning: Ill-conditioned matrix (rcond=2.78057e-25): result may not be accurate.\n",
      "  import sys\n",
      "/usr/lib/python3.7/site-packages/ipykernel_launcher.py:7: LinAlgWarning: Ill-conditioned matrix (rcond=2.81144e-25): result may not be accurate.\n",
      "  import sys\n",
      "/usr/lib/python3.7/site-packages/ipykernel_launcher.py:7: LinAlgWarning: Ill-conditioned matrix (rcond=2.81001e-25): result may not be accurate.\n",
      "  import sys\n",
      "/usr/lib/python3.7/site-packages/ipykernel_launcher.py:7: LinAlgWarning: Ill-conditioned matrix (rcond=2.76924e-25): result may not be accurate.\n",
      "  import sys\n",
      "/usr/lib/python3.7/site-packages/ipykernel_launcher.py:7: LinAlgWarning: Ill-conditioned matrix (rcond=2.81581e-25): result may not be accurate.\n",
      "  import sys\n",
      "/usr/lib/python3.7/site-packages/ipykernel_launcher.py:7: LinAlgWarning: Ill-conditioned matrix (rcond=2.80567e-25): result may not be accurate.\n",
      "  import sys\n"
     ]
    },
    {
     "data": {
      "text/plain": [
       "136979080413091.14"
      ]
     },
     "execution_count": 20,
     "metadata": {},
     "output_type": "execute_result"
    },
    {
     "data": {
      "image/png": "[encoded data removed]",
      "text/plain": [
       "<Figure size 432x288 with 1 Axes>"
      ]
     },
     "metadata": {
      "needs_background": "light"
     },
     "output_type": "display_data"
    }
   ],
   "source": [
    "Thetas_hard_neq = run_perturbation_trials(solve_neq, X_hard, y_hard)\n",
    "scatter_thetas(Thetas_hard_neq, theta_true=theta_hard_true, ax=0, ay=2)\n",
    "\n",
    "print(\"Residual norm for one of the trials:\")\n",
    "theta_hard_neq_example = np.random.randint(Thetas_hard_neq.shape[1])\n",
    "calc_residual_norm(X_hard, y_hard, theta_hard_neq_example)"
   ]
  },
  {
   "cell_type": "markdown",
   "metadata": {},
   "source": [
    "Observe that the computed estimates can be relatively far from the true value, even getting the sign completely wrong in the case of the $\\theta_0$."
   ]
  },
  {
   "cell_type": "markdown",
   "metadata": {},
   "source": [
    "## Algorithm 2: QR decomposition\n",
    "\n",
    "A different method for solving an overdetermined systems is to use a tool from linear algebra known as the [_QR decomposition_](https://en.wikipedia.org/wiki/QR_decomposition).\n",
    "\n",
    "Here is how we can use QR. If $X$ has linearly independent columns, then we would first factor the $m \\times n$ matrix $X$ into the product $X = QR$, where $Q$ is an $m \\times n$ orthogonal matrix and $R$ is an invertible $n \\times n$ upper-triangular matrix. (These dimensions assume $m \\geq n$.) That $Q$ is orthogonal means that $Q^T Q = I$, the identity matrix; $R$ being upper-triangular means all of its entries below the main diagonal are zero."
   ]
  },
  {
   "cell_type": "markdown",
   "metadata": {},
   "source": [
    "Next, observe that the normal equations can be transformed if we substitute $X = QR$:\n",
    "\n",
    "$$\n",
    "\\begin{eqnarray}\n",
    "        X^T X \\theta^* & = & X^T y \\\\\n",
    "  R^T Q^T Q R \\theta^* & = & R^T Q^T y \\\\\n",
    "            R \\theta^* & = & Q^T y.\n",
    "\\end{eqnarray}\n",
    "$$"
   ]
  },
  {
   "cell_type": "markdown",
   "metadata": {},
   "source": [
    "Lastly, because $R$ is triangular, solving a system is \"easy\" using _(backward) substitution_. Consider the following $3 \\times 3$ example (taken from [here](http://www.purplemath.com/modules/systlin6.htm)):\n",
    "\n",
    "$$\n",
    "\\left[\\begin{matrix}\n",
    "5 &  4 & -1 \\\\\n",
    "  & 10 & -3 \\\\\n",
    "  &    &  1 \\\\\n",
    "\\end{matrix}\\right]\n",
    "\\cdot\n",
    "\\left[\\begin{matrix}\n",
    "  \\theta_0 \\\\\n",
    "  \\theta_1 \\\\\n",
    "  \\theta_2\n",
    "\\end{matrix}\\right]\n",
    "=\n",
    "\\left[\\begin{matrix}\n",
    "  0 \\\\\n",
    "  11 \\\\\n",
    "  3\n",
    "\\end{matrix}\\right].\n",
    "$$\n",
    "\n",
    "Because it is upper-triangular, you can see right away that $1 \\cdot \\theta_2 = 3 \\implies \\theta_2 = 3$. Then, going to the equation above it, $10 \\theta_1 - 3 \\theta_2 = 10 \\theta_1 - 3(3) = 11 \\implies \\theta_1 = 2$. Lastly, $5 \\theta_0 + 4 \\theta_1 - \\theta_2 = 5 \\theta_0 + 4(2) - 3 = 0 \\implies \\theta_0 = -1$."
   ]
  },
  {
   "cell_type": "markdown",
   "metadata": {},
   "source": [
    "So, to summarize, a different algorithm to solve $X \\theta^* \\approx y$ using QR would look like the following:\n",
    "\n",
    "1. Compute $X = QR$.\n",
    "2. Form the modified right-hand side, $z = Q^T y$.\n",
    "3. Use back-substitution to solve $R \\theta^* = z$."
   ]
  },
  {
   "cell_type": "markdown",
   "metadata": {},
   "source": [
    "**Conditioning.** What about the sensitivity of this algorithm? Given $R$, we only need to solve linear systems involving $R$. Therefore, it's $\\kappa(R)$ that will determine the stability of the algorithm. So if $\\kappa(R)$ is comparable to $\\kappa(X)$, then the algorithm should be as stable as one can expect any algorithm to be."
   ]
  },
  {
   "cell_type": "markdown",
   "metadata": {},
   "source": [
    "**Exercise 6** (1 point). Use [numpy.linalg.qr()](https://docs.scipy.org/doc/numpy/reference/generated/numpy.linalg.qr.html) to compute the QR decomposition of $X$ (precomputed above as the variable, `X`). Store the $Q$ and $R$ factors in two variables named `Q` and `R`."
   ]
  },
  {
   "cell_type": "code",
   "execution_count": 21,
   "metadata": {
    "nbgrader": {
     "grade": false,
     "grade_id": "qr",
     "locked": false,
     "schema_version": 1,
     "solution": true
    }
   },
   "outputs": [
    {
     "name": "stdout",
     "output_type": "stream",
     "text": [
      "[[ 1.  0.  0.]\n",
      " [ 1.  1.  1.]\n",
      " [ 1.  2.  4.]\n",
      " [ 1.  3.  9.]\n",
      " [ 1.  4. 16.]] \n",
      " ...\n",
      "\n",
      "Q: (10, 3) \n",
      "\n",
      "R: (3, 3) ==\n",
      "[[ -3.16227766 -14.23024947 -90.12491331]\n",
      " [  0.           9.08295106  81.74655956]\n",
      " [  0.           0.          22.97825059]]\n"
     ]
    }
   ],
   "source": [
    "print(X[:5], \"\\n ...\\n\")\n",
    "\n",
    "Q, R = np.linalg.qr(X)\n",
    "\n",
    "# Print the dimensions of your result\n",
    "print(\"Q:\", Q.shape, \"\\n\")\n",
    "print(\"R:\", R.shape, \"==\")\n",
    "print(R)"
   ]
  },
  {
   "cell_type": "code",
   "execution_count": 22,
   "metadata": {
    "deletable": false,
    "editable": false,
    "nbgrader": {
     "grade": true,
     "grade_id": "qr_test",
     "locked": true,
     "points": 1,
     "schema_version": 1,
     "solution": false
    }
   },
   "outputs": [
    {
     "name": "stdout",
     "output_type": "stream",
     "text": [
      "\n",
      "(Passed!)\n"
     ]
    }
   ],
   "source": [
    "# Test cell: `qr_test`\n",
    "\n",
    "assert type(Q) is np.ndarray, \"`Q` is not a Numpy array but should be.\"\n",
    "assert type(R) is np.ndarray, \"`R` is not a Numpy array but should be.\"\n",
    "assert Q.shape == (m, n+1), \"`Q` has the wrong shape: it's {} rather than {}.\".format(Q.shape, (m, n+1))\n",
    "assert R.shape == (n+1, n+1), \"`R` has the wrong shape: it's {} rather than {}.\".format(R.shape, (m, n+1))\n",
    "for i in range(R.shape[0]):\n",
    "    for j in range(i):\n",
    "        assert np.isclose(R[i][j], 0.0), \"R[{}][{}] == {} instead of 0!\".format(i, j, R[i][j])\n",
    "        \n",
    "QTQ = Q.T.dot(Q)\n",
    "assert np.isclose(QTQ, np.eye(Q.shape[1])).all(), \"Q^T Q is not nearly the identity matrix, as it should be.\"\n",
    "\n",
    "assert np.isclose(X, Q.dot(R)).all(), \"QR is not sufficiently close in values to X!\"\n",
    "\n",
    "print(\"\\n(Passed!)\")"
   ]
  },
  {
   "cell_type": "markdown",
   "metadata": {},
   "source": [
    "**Condition number of $R$.** Let's check the condition number of $R$ empirically, to verify that it is comparable to $\\kappa(X)$."
   ]
  },
  {
   "cell_type": "code",
   "execution_count": 23,
   "metadata": {},
   "outputs": [
    {
     "data": {
      "text/latex": [
       "$\\displaystyle \\kappa(X) \\approx 1.07\\times 10^{2}$"
      ],
      "text/plain": [
       "<IPython.core.display.Math object>"
      ]
     },
     "metadata": {},
     "output_type": "display_data"
    },
    {
     "data": {
      "text/latex": [
       "$\\displaystyle \\kappa(X^T X) \\approx 1.15\\times 10^{4}$"
      ],
      "text/plain": [
       "<IPython.core.display.Math object>"
      ]
     },
     "metadata": {},
     "output_type": "display_data"
    },
    {
     "data": {
      "text/latex": [
       "$\\displaystyle \\kappa(R) \\approx 1.07\\times 10^{2}$"
      ],
      "text/plain": [
       "<IPython.core.display.Math object>"
      ]
     },
     "metadata": {},
     "output_type": "display_data"
    }
   ],
   "source": [
    "cond_R = np.linalg.cond(R)\n",
    "\n",
    "show_cond_fancy(cond_X, 'X')\n",
    "show_cond_fancy(cond_XTX, 'X^T X')\n",
    "show_cond_fancy(cond_R, 'R')"
   ]
  },
  {
   "cell_type": "markdown",
   "metadata": {},
   "source": [
    "**Exercise 7** (3 points). Implement a function, `solve_qr(X, y)`, which uses the QR-based algorithm to estimate $\\theta^*$.\n",
    "\n",
    "> To solve the triangular system, use Scipy's specialized function, available as [sp.linalg.solve_triangular()](https://docs.scipy.org/doc/scipy/reference/generated/scipy.linalg.solve_triangular.html)."
   ]
  },
  {
   "cell_type": "code",
   "execution_count": 24,
   "metadata": {
    "nbgrader": {
     "grade": false,
     "grade_id": "solve_qr",
     "locked": false,
     "schema_version": 1,
     "solution": true
    }
   },
   "outputs": [
    {
     "name": "stdout",
     "output_type": "stream",
     "text": [
      "Comparing your QR solution to the true solution:\n"
     ]
    },
    {
     "data": {
      "text/html": [
       "<div>\n",
       "<style scoped>\n",
       "    .dataframe tbody tr th:only-of-type {\n",
       "        vertical-align: middle;\n",
       "    }\n",
       "\n",
       "    .dataframe tbody tr th {\n",
       "        vertical-align: top;\n",
       "    }\n",
       "\n",
       "    .dataframe thead th {\n",
       "        text-align: right;\n",
       "    }\n",
       "</style>\n",
       "<table border=\"1\" class=\"dataframe\">\n",
       "  <thead>\n",
       "    <tr style=\"text-align: right;\">\n",
       "      <th></th>\n",
       "      <th>theta_qr</th>\n",
       "      <th>theta_true</th>\n",
       "      <th>error</th>\n",
       "    </tr>\n",
       "  </thead>\n",
       "  <tbody>\n",
       "    <tr>\n",
       "      <th>0</th>\n",
       "      <td>1.0</td>\n",
       "      <td>1.0</td>\n",
       "      <td>-1.154632e-14</td>\n",
       "    </tr>\n",
       "    <tr>\n",
       "      <th>1</th>\n",
       "      <td>1.0</td>\n",
       "      <td>1.0</td>\n",
       "      <td>3.552714e-15</td>\n",
       "    </tr>\n",
       "    <tr>\n",
       "      <th>2</th>\n",
       "      <td>1.0</td>\n",
       "      <td>1.0</td>\n",
       "      <td>-2.220446e-16</td>\n",
       "    </tr>\n",
       "  </tbody>\n",
       "</table>\n",
       "</div>"
      ],
      "text/plain": [
       "   theta_qr  theta_true         error\n",
       "0       1.0         1.0 -1.154632e-14\n",
       "1       1.0         1.0  3.552714e-15\n",
       "2       1.0         1.0 -2.220446e-16"
      ]
     },
     "metadata": {},
     "output_type": "display_data"
    },
    {
     "name": "stdout",
     "output_type": "stream",
     "text": [
      "Residual norm:\n"
     ]
    },
    {
     "data": {
      "text/plain": [
       "1.5434895314732314e-14"
      ]
     },
     "execution_count": 24,
     "metadata": {},
     "output_type": "execute_result"
    }
   ],
   "source": [
    "import scipy.linalg\n",
    "\n",
    "def solve_qr(X, y):\n",
    "    Q, R = np.linalg.qr(X)\n",
    "    QTy = Q.T.dot(y)\n",
    "    theta = sp.linalg.solve_triangular(R, QTy)\n",
    "    return theta\n",
    "    \n",
    "theta_qr = solve_qr(X, y)\n",
    "\n",
    "print(\"Comparing your QR solution to the true solution:\")\n",
    "show_2vecs_tibble(theta_qr, theta_true, xname='theta_qr', yname='theta_true', error=True)\n",
    "\n",
    "print(\"Residual norm:\")\n",
    "calc_residual_norm(X, y, theta_qr)"
   ]
  },
  {
   "cell_type": "code",
   "execution_count": 25,
   "metadata": {
    "deletable": false,
    "editable": false,
    "nbgrader": {
     "grade": true,
     "grade_id": "solve_qr_test",
     "locked": true,
     "points": 3,
     "schema_version": 1,
     "solution": false
    }
   },
   "outputs": [
    {
     "name": "stdout",
     "output_type": "stream",
     "text": [
      "\n",
      "(Passed!)\n"
     ]
    }
   ],
   "source": [
    "# Test cell: `solve_qr_test`\n",
    "import re\n",
    "\n",
    "try:\n",
    "    del np.linalg.lstsq\n",
    "    solve_qr(X, y)\n",
    "except NameError as n:\n",
    "    if re.findall('lstsq', n.args[0]):\n",
    "        print(\"*** Double-check that you did not try to use `lstsq()`. ***\")\n",
    "    raise n\n",
    "except AttributeError as a:\n",
    "    if re.findall('lstsq', a.args[0]):\n",
    "        print(\"*** Double-check that you did not try to use `lstsq()`. ***\")\n",
    "    raise a\n",
    "finally:\n",
    "    np.linalg.lstsq = SAVE_LSTSQ\n",
    "\n",
    "assert np.isclose(theta_qr, theta_true).all(), \"Your QR-based solution should be closer to the true solution.\"\n",
    "\n",
    "print(\"\\n(Passed!)\")"
   ]
  },
  {
   "cell_type": "markdown",
   "metadata": {},
   "source": [
    "**Is QR more stable?** Let's run the same perturbation experiments on the \"hard\" regression problem and see the result."
   ]
  },
  {
   "cell_type": "code",
   "execution_count": 26,
   "metadata": {
    "deletable": false,
    "editable": false,
    "nbgrader": {
     "grade": false,
     "grade_id": "cell-9e64a01b45964c31",
     "locked": true,
     "schema_version": 1,
     "solution": false
    }
   },
   "outputs": [
    {
     "name": "stdout",
     "output_type": "stream",
     "text": [
      "Sample estimate for one of the trials:\n",
      "- Gramian-based method: theta^T =\n",
      "\t[-0.21307919  1.53911391  0.9459387   1.00214986  0.99995996  1.00000035\n",
      "  1.        ]\n",
      "- QR-based method: theta^T =\n",
      "\t[0.99018754 1.00358144 0.99971037 1.0000087  0.99999988 1.\n",
      " 1.        ]\n"
     ]
    },
    {
     "data": {
      "image/png": "[encoded data removed]",
      "text/plain": [
       "<Figure size 864x288 with 2 Axes>"
      ]
     },
     "metadata": {
      "needs_background": "light"
     },
     "output_type": "display_data"
    }
   ],
   "source": [
    "Thetas_hard_qr = run_perturbation_trials(solve_qr, X_hard, y_hard)\n",
    "\n",
    "# Plot side-by-side against normal equations method\n",
    "def compare_scatter_thetas(T0, title0, T1, title1, ax=0, ay=1, **kwargs):\n",
    "    xmin, xmax = calc_lims(np.array([Thetas_hard_neq[ax, :], Thetas_hard_qr[ax, :]]))\n",
    "    ymin, ymax = calc_lims(np.array([Thetas_hard_neq[ay, :], Thetas_hard_qr[ay, :]]))\n",
    "    xylim = [xmin, xmax, ymin, ymax]\n",
    "    figure(figsize=(12, 4))\n",
    "    subplot(1, 2, 1)\n",
    "    scatter_thetas(T0, title=title0, ax=ax, ay=ay, xylim=xylim, **kwargs)\n",
    "    subplot(1, 2 ,2)\n",
    "    scatter_thetas(T1, title=title1, ax=ax, ay=ay, xylim=xylim, **kwargs)\n",
    "    \n",
    "compare_scatter_thetas(Thetas_hard_neq, 'Normal equations',\n",
    "                       Thetas_hard_qr, 'QR',\n",
    "                       ax=0, ay=-1, theta_true=theta_hard_true)\n",
    "\n",
    "print(\"Sample estimate for one of the trials:\")\n",
    "theta_hard_neq_example = Thetas_hard_neq[:, np.random.randint(Thetas_hard_neq.shape[1])]\n",
    "theta_hard_qr_example = Thetas_hard_qr[:, np.random.randint(Thetas_hard_qr.shape[1])]\n",
    "msg = \"- {}-based method: theta^T =\\n\\t{}\"\n",
    "print(msg.format(\"Gramian\", theta_hard_neq_example.T))\n",
    "print(msg.format(\"QR\", theta_hard_qr_example.T))"
   ]
  },
  {
   "cell_type": "markdown",
   "metadata": {},
   "source": [
    "You should observe that the QR-based method does, indeed, produce estimates much closer to the true value despite the problem's high condition number."
   ]
  },
  {
   "cell_type": "markdown",
   "metadata": {},
   "source": [
    "**Performance tradeoff.** Although QR produces more reliable results, there can be a performance tradeoff, as the following quick test should show."
   ]
  },
  {
   "cell_type": "code",
   "execution_count": 27,
   "metadata": {
    "deletable": false,
    "editable": false,
    "nbgrader": {
     "grade": false,
     "locked": true,
     "solution": false
    }
   },
   "outputs": [
    {
     "name": "stdout",
     "output_type": "stream",
     "text": [
      "=== Performance of the normal equations-based algorithm ===\n"
     ]
    },
    {
     "name": "stderr",
     "output_type": "stream",
     "text": [
      "/usr/lib/python3.7/site-packages/ipykernel_launcher.py:7: LinAlgWarning: Ill-conditioned matrix (rcond=2.8027e-25): result may not be accurate.\n",
      "  import sys\n"
     ]
    },
    {
     "name": "stdout",
     "output_type": "stream",
     "text": [
      "Timing result: (5 trials) x (10000 runs) in 2.0502854109799955 secs\n",
      "==> 4.1005708219599907e-05 secs per run\n"
     ]
    }
   ],
   "source": [
    "print(\"=== Performance of the normal equations-based algorithm ===\")\n",
    "benchit(\"solve_neq(X_hard, y_hard)\", scope=globals());"
   ]
  },
  {
   "cell_type": "code",
   "execution_count": 28,
   "metadata": {
    "deletable": false,
    "editable": false,
    "nbgrader": {
     "grade": false,
     "grade_id": "cell-e40dba0f6f86d187",
     "locked": true,
     "schema_version": 1,
     "solution": false
    }
   },
   "outputs": [
    {
     "name": "stdout",
     "output_type": "stream",
     "text": [
      "\n",
      "=== Performance of the QR-based algorithm ===\n",
      "Timing result: (5 trials) x (10000 runs) in 4.060406191027141 secs\n",
      "==> 8.120812382054282e-05 secs per run\n"
     ]
    }
   ],
   "source": [
    "print(\"\\n=== Performance of the QR-based algorithm ===\")\n",
    "benchit(\"solve_qr(X_hard, y_hard)\", scope=globals());"
   ]
  },
  {
   "cell_type": "markdown",
   "metadata": {},
   "source": [
    "**Summary comment.** The intent of this notebook was to help you appreciate some of the reliability and performance issues involved in the design of numerical algorithms. The key ideas are as follows.\n",
    "\n",
    "1. The _conditioning_ of a problem, which is a measure of how hard it is to solve. For solving linear systems, the condition number of the matrix produced by `numpy.linalg.cond()` is this measure.\n",
    "2. For the specific problem of linear least squares, a method based on QR factorization is better than forming the Gram matrix, which squares the condition number. Although we did not discuss the theory of QR better, it exemplifies a common pattern or trick in linear algebraic problems: converting the original problem (or matrix) into one whose structure is easier to solve.\n",
    "3. There is a potential tradeoff between _reliability_ of an algorithm and _speed_.\n",
    "\n",
    "Many of these algorithmic and engineering ideas have already been worked out, and are encapsulated in Numpy's built-in [`lstsq()` solver](https://docs.scipy.org/doc/numpy/reference/generated/numpy.linalg.lstsq.html) or its [Scipy equivalent](https://docs.scipy.org/doc/scipy/reference/generated/scipy.linalg.lstsq.html). So when you need to solve a linear system in a future notebook, you can use this function."
   ]
  },
  {
   "cell_type": "markdown",
   "metadata": {
    "collapsed": true,
    "deletable": false,
    "editable": false,
    "nbgrader": {
     "grade": false,
     "grade_id": "cell-54da293d2991564f",
     "locked": true,
     "schema_version": 1,
     "solution": false
    }
   },
   "source": [
    "**Fin!** If you've gotten this far without errors, your notebook is ready to submit."
   ]
  }
 ],
 "metadata": {
  "anaconda-cloud": [],
  "celltoolbar": "Create Assignment",
  "kernelspec": {
   "display_name": "Python 3.7",
   "language": "python",
   "name": "python37"
  },
  "language_info": {
   "codemirror_mode": {
    "name": "ipython",
    "version": 3
   },
   "file_extension": ".py",
   "mimetype": "text/x-python",
   "name": "python",
   "nbconvert_exporter": "python",
   "pygments_lexer": "ipython3",
   "version": "3.7.5"
  }
 },
 "nbformat": 4,
 "nbformat_minor": 1
}
